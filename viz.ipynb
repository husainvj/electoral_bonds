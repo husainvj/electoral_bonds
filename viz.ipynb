{
 "cells": [
  {
   "cell_type": "markdown",
   "metadata": {},
   "source": []
  },
  {
   "cell_type": "code",
   "execution_count": 2,
   "metadata": {},
   "outputs": [],
   "source": [
    "import plotly.graph_objects as go\n",
    "import pandas as pd\n",
    "\n",
    "import plotly.express as px\n",
    "\n",
    "import plotly.offline as offline\n",
    "\n",
    "from ipywidgets import widgets\n",
    "\n",
    "from datetime import datetime\n"
   ]
  },
  {
   "cell_type": "code",
   "execution_count": 3,
   "metadata": {},
   "outputs": [],
   "source": [
    "data= pd.read_csv(\"assets/bond_details.csv\", sep=\",\", parse_dates=[\"Date_of_Purchase\"])\n",
    "data[\"Denomination\"] = data[\"Denomination\"].astype(float)"
   ]
  },
  {
   "cell_type": "code",
   "execution_count": 4,
   "metadata": {},
   "outputs": [],
   "source": [
    "\n",
    "data['Month_Year'] = data['Date_of_Purchase'].dt.strftime('%b-%Y')\n",
    "#data['Month_Year'] = data['Date_of_Purchase'].dt.to_period('m')\n",
    "#data['Month_Year'] = pd.to_datetime(data['Month_Year'], format='%b-%Y')"
   ]
  },
  {
   "cell_type": "code",
   "execution_count": 5,
   "metadata": {},
   "outputs": [
    {
     "data": {
      "text/plain": [
       "'ipy_bonds_map.html'"
      ]
     },
     "execution_count": 5,
     "metadata": {},
     "output_type": "execute_result"
    }
   ],
   "source": [
    "## Normal overall analysis of the bonds.\n",
    "# We group data by purchasers name.\n",
    "\n",
    "bonds_tree= data.groupby(\"Purchaser_Name\")[\"Denomination\"].apply(sum).to_dict()  # only use it for a combined analysis of all bonds\n",
    "# We can use the following code to create a treemap of the bonds.         \n",
    "fig=go.Figure(go.Treemap(labels= list(bonds_tree.keys()), parents= [\"\"]*len(bonds_tree.keys()), values= list(bonds_tree.values()), text= list(bonds_tree.keys()), marker_colors=px.colors.qualitative.Plotly, textinfo=\"label+text+value\"))    \n",
    "fig.update_layout(width=750, height=750, margin=dict(l=0, r=0, t=0, b=0))\n",
    "    \n",
    "offline.plot(fig, filename=\"ipy_bonds_map.html\", auto_open=True)"
   ]
  },
  {
   "cell_type": "code",
   "execution_count": 6,
   "metadata": {},
   "outputs": [
    {
     "ename": "NameError",
     "evalue": "name 'unique_dates' is not defined",
     "output_type": "error",
     "traceback": [
      "\u001b[1;31m---------------------------------------------------------------------------\u001b[0m",
      "\u001b[1;31mNameError\u001b[0m                                 Traceback (most recent call last)",
      "\u001b[1;32m~\\AppData\\Local\\Temp\\ipykernel_23992\\1033997638.py\u001b[0m in \u001b[0;36m<module>\u001b[1;34m\u001b[0m\n\u001b[0;32m     25\u001b[0m \u001b[1;31m# Slider widget for year selection\u001b[0m\u001b[1;33m\u001b[0m\u001b[1;33m\u001b[0m\u001b[0m\n\u001b[0;32m     26\u001b[0m selection_range_slider = widgets.SelectionRangeSlider(\n\u001b[1;32m---> 27\u001b[1;33m     \u001b[0moptions\u001b[0m\u001b[1;33m=\u001b[0m\u001b[0munique_dates\u001b[0m\u001b[1;33m,\u001b[0m\u001b[1;33m\u001b[0m\u001b[1;33m\u001b[0m\u001b[0m\n\u001b[0m\u001b[0;32m     28\u001b[0m     \u001b[0mindex\u001b[0m\u001b[1;33m=\u001b[0m\u001b[1;33m(\u001b[0m\u001b[1;36m0\u001b[0m\u001b[1;33m,\u001b[0m \u001b[0mlen\u001b[0m\u001b[1;33m(\u001b[0m\u001b[0munique_dates\u001b[0m\u001b[1;33m)\u001b[0m\u001b[1;33m-\u001b[0m\u001b[1;36m1\u001b[0m\u001b[1;33m)\u001b[0m\u001b[1;33m,\u001b[0m\u001b[1;33m\u001b[0m\u001b[1;33m\u001b[0m\u001b[0m\n\u001b[0;32m     29\u001b[0m     \u001b[0mstart\u001b[0m\u001b[1;33m=\u001b[0m\u001b[1;36m0\u001b[0m\u001b[1;33m,\u001b[0m\u001b[1;33m\u001b[0m\u001b[1;33m\u001b[0m\u001b[0m\n",
      "\u001b[1;31mNameError\u001b[0m: name 'unique_dates' is not defined"
     ]
    }
   ],
   "source": [
    "# Sample DataFrame\n",
    "#datetime.datetime.strptime(year.value[0], \"%b-%Y\")\n",
    "\n",
    "# Function to update the treemap\n",
    "def update_treemap(y):\n",
    "    year = selection_range_slider.value\n",
    "\n",
    "    idx_start = data.index[data['Month_Year'] == year[0]][0]\n",
    "    idx_end = data.index[data['Month_Year'] == year[1]][-1]\n",
    "\n",
    "    filtered_df = data.loc[idx_start : idx_end]\n",
    "    #filtered_df= data.between_time(parser.isoparse(year.value[0]), parser.isoparse(year.value[1]))\n",
    "    #filtered_df = data.loc[data['Month_Year'] >= datetime.strptime(year.value[0], \"%b-%Y\") & data['Month_Year'] <= datetime.strptime(year.value[1], \"%b-%Y\")]\n",
    "    #filtered_df = data.loc[(datetime.strptime(data['Month_Year'],\"%b-%Y\") >= datetime.strptime(year.value[0], \"%b-%Y\")) & (datetime.strptime(data['Month_Year'],\"%b-%Y\") <= datetime.strptime(year.value[1], \"%b-%Y\"))]\n",
    "    dict_b= filtered_df.groupby(\"Purchaser_Name\")[\"Denomination\"].apply(sum).to_dict()\n",
    "    fig = go.Figure(go.Treemap(\n",
    "        labels = list(dict_b.keys()),\n",
    "        parents = [\"\"]*len(dict_b.keys()),   #[\"\"]*len(bonds_tree.keys()\n",
    "        values = list(dict_b.values()),\n",
    "        textinfo = \"label+value\"\n",
    "    ))\n",
    "    fig.update_layout( width=1000 , height= 1000 , margin = dict(t=25, l=25, r=25, b=25))\n",
    "    return fig\n",
    "\n",
    "# Slider widget for year selection\n",
    "selection_range_slider = widgets.SelectionRangeSlider(\n",
    "    options=unique_dates,\n",
    "    index=(0, len(unique_dates)-1),\n",
    "    start=0,\n",
    "    end=len(unique_dates)-1,\n",
    "    #value=('Apr-2019', 'Oct-2021'),\n",
    "    step=1,\n",
    "    description='Dates',\n",
    "    orientation='horizontal',\n",
    "    layout={'width': '1000px'},\n",
    "    continuous_update=False,\n",
    ")\n",
    "\n",
    "#widgets.interactive(update_treemap, y=selection_range_slider)\n",
    "\n",
    "widgets.interact(update_treemap, y=selection_range_slider)\n",
    "#widgets.widget_layout.Layout(display='flex', justify_content='space-between', align_items='center', width='30%')\n",
    "#embed_minimal_html('export.html', views=[update_treemap, selection_range_slider], title='Widgets export')"
   ]
  },
  {
   "cell_type": "code",
   "execution_count": 7,
   "metadata": {},
   "outputs": [],
   "source": [
    "data2= pd.read_csv(\"assets/party_details.csv\", sep=\",\", parse_dates=[\"Date_of_Encashment\"])\n",
    "data2[\"Denomination\"] = data2[\"Denomination\"].astype(float)"
   ]
  },
  {
   "cell_type": "code",
   "execution_count": 8,
   "metadata": {},
   "outputs": [],
   "source": [
    "data2['Month_Year'] = data2['Date_of_Encashment'].dt.strftime('%b-%Y')"
   ]
  },
  {
   "cell_type": "code",
   "execution_count": 9,
   "metadata": {},
   "outputs": [
    {
     "data": {
      "text/plain": [
       "array([1.e+05, 1.e+06, 1.e+07, 1.e+03, 1.e+04])"
      ]
     },
     "execution_count": 9,
     "metadata": {},
     "output_type": "execute_result"
    }
   ],
   "source": [
    "data.Denomination.unique()"
   ]
  },
  {
   "cell_type": "code",
   "execution_count": 10,
   "metadata": {},
   "outputs": [
    {
     "data": {
      "text/plain": [
       "{'Apr-2019': 1335,\n",
       " 'Apr-2021': 974,\n",
       " 'Apr-2022': 811,\n",
       " 'Apr-2023': 1470,\n",
       " 'Dec-2022': 260,\n",
       " 'Jan-2020': 139,\n",
       " 'Jan-2021': 151,\n",
       " 'Jan-2022': 2068,\n",
       " 'Jan-2023': 437,\n",
       " 'Jan-2024': 897,\n",
       " 'Jul-2019': 101,\n",
       " 'Jul-2021': 465,\n",
       " 'Jul-2022': 480,\n",
       " 'Jul-2023': 1371,\n",
       " 'May-2019': 1187,\n",
       " 'Nov-2022': 954,\n",
       " 'Nov-2023': 1109,\n",
       " 'Oct-2019': 531,\n",
       " 'Oct-2020': 321,\n",
       " 'Oct-2021': 1057,\n",
       " 'Oct-2022': 741,\n",
       " 'Oct-2023': 2012}"
      ]
     },
     "execution_count": 10,
     "metadata": {},
     "output_type": "execute_result"
    }
   ],
   "source": [
    "\n",
    "date_dict= data.groupby(\"Month_Year\")[\"Denomination\"].size().to_dict()\n",
    "date_dict"
   ]
  },
  {
   "cell_type": "code",
   "execution_count": 11,
   "metadata": {},
   "outputs": [],
   "source": [
    "#filtered_df = data.loc[data['Month_Year'] == 'Apr-2019']\n",
    "df_grouped = data.groupby(['Month_Year', 'Denomination']).size().unstack(fill_value=0)"
   ]
  },
  {
   "cell_type": "code",
   "execution_count": 12,
   "metadata": {},
   "outputs": [],
   "source": [
    "data['dt_month_year'] = data['Date_of_Purchase'].dt.to_period('M')"
   ]
  },
  {
   "cell_type": "code",
   "execution_count": 13,
   "metadata": {},
   "outputs": [
    {
     "data": {
      "application/vnd.plotly.v1+json": {
       "config": {
        "plotlyServerURL": "https://plot.ly"
       },
       "data": [
        {
         "mode": "lines",
         "name": "1 Thousand",
         "stackgroup": "one",
         "type": "scatter",
         "x": [
          "Apr-2019",
          "Apr-2021",
          "Apr-2022",
          "Apr-2023",
          "Dec-2022",
          "Jan-2020",
          "Jan-2021",
          "Jan-2022",
          "Jan-2023",
          "Jan-2024",
          "Jul-2019",
          "Jul-2021",
          "Jul-2022",
          "Jul-2023",
          "May-2019",
          "Nov-2022",
          "Nov-2023",
          "Oct-2019",
          "Oct-2020",
          "Oct-2021",
          "Oct-2022",
          "Oct-2023"
         ],
         "y": [
          0.0749063670411985,
          0.20533880903490762,
          0,
          0,
          0,
          0,
          0,
          0.04835589941972921,
          1.3729977116704806,
          0.33444816053511706,
          0,
          0,
          1.0416666666666665,
          0.14587892049598833,
          1.6006739679865205,
          3.1446540880503147,
          0,
          0,
          0.3115264797507788,
          0.47303689687795647,
          0,
          2.8330019880715707
         ]
        },
        {
         "mode": "lines",
         "name": "10 Thousand",
         "stackgroup": "one",
         "type": "scatter",
         "x": [
          "Apr-2019",
          "Apr-2021",
          "Apr-2022",
          "Apr-2023",
          "Dec-2022",
          "Jan-2020",
          "Jan-2021",
          "Jan-2022",
          "Jan-2023",
          "Jan-2024",
          "Jul-2019",
          "Jul-2021",
          "Jul-2022",
          "Jul-2023",
          "May-2019",
          "Nov-2022",
          "Nov-2023",
          "Oct-2019",
          "Oct-2020",
          "Oct-2021",
          "Oct-2022",
          "Oct-2023"
         ],
         "y": [
          0.7490636704119851,
          0,
          4.562268803945746,
          0.6802721088435374,
          0,
          0,
          6.622516556291391,
          0.4835589941972921,
          0.4576659038901602,
          0,
          0,
          2.795698924731183,
          0,
          0,
          0.5054759898904801,
          2.8301886792452833,
          0.09017132551848511,
          1.8832391713747645,
          0,
          2.7436140018921478,
          0,
          2.7335984095427435
         ]
        },
        {
         "mode": "lines",
         "name": "1 Lakh",
         "stackgroup": "one",
         "type": "scatter",
         "x": [
          "Apr-2019",
          "Apr-2021",
          "Apr-2022",
          "Apr-2023",
          "Dec-2022",
          "Jan-2020",
          "Jan-2021",
          "Jan-2022",
          "Jan-2023",
          "Jan-2024",
          "Jul-2019",
          "Jul-2021",
          "Jul-2022",
          "Jul-2023",
          "May-2019",
          "Nov-2022",
          "Nov-2023",
          "Oct-2019",
          "Oct-2020",
          "Oct-2021",
          "Oct-2022",
          "Oct-2023"
         ],
         "y": [
          19.850187265917604,
          6.570841889117044,
          6.781750924784218,
          4.6938775510204085,
          0,
          19.424460431654676,
          19.205298013245034,
          17.64990328820116,
          10.526315789473683,
          4.459308807134894,
          17.82178217821782,
          19.35483870967742,
          2.083333333333333,
          16.046681254558717,
          2.9486099410278013,
          14.9895178197065,
          2.0739404869251574,
          28.625235404896422,
          2.803738317757009,
          22.8003784295175,
          3.3738191632928474,
          15.009940357852884
         ]
        },
        {
         "mode": "lines",
         "name": "10 Lakh",
         "stackgroup": "one",
         "type": "scatter",
         "x": [
          "Apr-2019",
          "Apr-2021",
          "Apr-2022",
          "Apr-2023",
          "Dec-2022",
          "Jan-2020",
          "Jan-2021",
          "Jan-2022",
          "Jan-2023",
          "Jan-2024",
          "Jul-2019",
          "Jul-2021",
          "Jul-2022",
          "Jul-2023",
          "May-2019",
          "Nov-2022",
          "Nov-2023",
          "Oct-2019",
          "Oct-2020",
          "Oct-2021",
          "Oct-2022",
          "Oct-2023"
         ],
         "y": [
          32.88389513108614,
          24.33264887063655,
          9.741060419235511,
          31.83673469387755,
          11.923076923076923,
          24.46043165467626,
          51.65562913907284,
          25.918762088974855,
          18.993135011441648,
          35.005574136008924,
          41.584158415841586,
          50.752688172043015,
          17.5,
          27.425237053245805,
          28.55939342881213,
          9.224318658280922,
          7.93507664562669,
          29.001883239171374,
          9.968847352024921,
          17.880794701986755,
          25.64102564102564,
          25
         ]
        },
        {
         "mode": "lines",
         "name": "1 Crore",
         "stackgroup": "one",
         "type": "scatter",
         "x": [
          "Apr-2019",
          "Apr-2021",
          "Apr-2022",
          "Apr-2023",
          "Dec-2022",
          "Jan-2020",
          "Jan-2021",
          "Jan-2022",
          "Jan-2023",
          "Jan-2024",
          "Jul-2019",
          "Jul-2021",
          "Jul-2022",
          "Jul-2023",
          "May-2019",
          "Nov-2022",
          "Nov-2023",
          "Oct-2019",
          "Oct-2020",
          "Oct-2021",
          "Oct-2022",
          "Oct-2023"
         ],
         "y": [
          46.441947565543074,
          68.8911704312115,
          78.91491985203453,
          62.78911564625851,
          88.07692307692308,
          56.11510791366906,
          22.516556291390728,
          55.89941972920697,
          68.64988558352402,
          60.200668896321076,
          40.5940594059406,
          27.09677419354839,
          79.375,
          56.38220277169948,
          66.38584667228307,
          69.81132075471697,
          89.90081154192967,
          40.48964218455744,
          86.91588785046729,
          56.10217596972564,
          70.98515519568151,
          54.4234592445328
         ]
        }
       ],
       "layout": {
        "hovermode": "x",
        "template": {
         "data": {
          "bar": [
           {
            "error_x": {
             "color": "#2a3f5f"
            },
            "error_y": {
             "color": "#2a3f5f"
            },
            "marker": {
             "line": {
              "color": "#E5ECF6",
              "width": 0.5
             },
             "pattern": {
              "fillmode": "overlay",
              "size": 10,
              "solidity": 0.2
             }
            },
            "type": "bar"
           }
          ],
          "barpolar": [
           {
            "marker": {
             "line": {
              "color": "#E5ECF6",
              "width": 0.5
             },
             "pattern": {
              "fillmode": "overlay",
              "size": 10,
              "solidity": 0.2
             }
            },
            "type": "barpolar"
           }
          ],
          "carpet": [
           {
            "aaxis": {
             "endlinecolor": "#2a3f5f",
             "gridcolor": "white",
             "linecolor": "white",
             "minorgridcolor": "white",
             "startlinecolor": "#2a3f5f"
            },
            "baxis": {
             "endlinecolor": "#2a3f5f",
             "gridcolor": "white",
             "linecolor": "white",
             "minorgridcolor": "white",
             "startlinecolor": "#2a3f5f"
            },
            "type": "carpet"
           }
          ],
          "choropleth": [
           {
            "colorbar": {
             "outlinewidth": 0,
             "ticks": ""
            },
            "type": "choropleth"
           }
          ],
          "contour": [
           {
            "colorbar": {
             "outlinewidth": 0,
             "ticks": ""
            },
            "colorscale": [
             [
              0,
              "#0d0887"
             ],
             [
              0.1111111111111111,
              "#46039f"
             ],
             [
              0.2222222222222222,
              "#7201a8"
             ],
             [
              0.3333333333333333,
              "#9c179e"
             ],
             [
              0.4444444444444444,
              "#bd3786"
             ],
             [
              0.5555555555555556,
              "#d8576b"
             ],
             [
              0.6666666666666666,
              "#ed7953"
             ],
             [
              0.7777777777777778,
              "#fb9f3a"
             ],
             [
              0.8888888888888888,
              "#fdca26"
             ],
             [
              1,
              "#f0f921"
             ]
            ],
            "type": "contour"
           }
          ],
          "contourcarpet": [
           {
            "colorbar": {
             "outlinewidth": 0,
             "ticks": ""
            },
            "type": "contourcarpet"
           }
          ],
          "heatmap": [
           {
            "colorbar": {
             "outlinewidth": 0,
             "ticks": ""
            },
            "colorscale": [
             [
              0,
              "#0d0887"
             ],
             [
              0.1111111111111111,
              "#46039f"
             ],
             [
              0.2222222222222222,
              "#7201a8"
             ],
             [
              0.3333333333333333,
              "#9c179e"
             ],
             [
              0.4444444444444444,
              "#bd3786"
             ],
             [
              0.5555555555555556,
              "#d8576b"
             ],
             [
              0.6666666666666666,
              "#ed7953"
             ],
             [
              0.7777777777777778,
              "#fb9f3a"
             ],
             [
              0.8888888888888888,
              "#fdca26"
             ],
             [
              1,
              "#f0f921"
             ]
            ],
            "type": "heatmap"
           }
          ],
          "heatmapgl": [
           {
            "colorbar": {
             "outlinewidth": 0,
             "ticks": ""
            },
            "colorscale": [
             [
              0,
              "#0d0887"
             ],
             [
              0.1111111111111111,
              "#46039f"
             ],
             [
              0.2222222222222222,
              "#7201a8"
             ],
             [
              0.3333333333333333,
              "#9c179e"
             ],
             [
              0.4444444444444444,
              "#bd3786"
             ],
             [
              0.5555555555555556,
              "#d8576b"
             ],
             [
              0.6666666666666666,
              "#ed7953"
             ],
             [
              0.7777777777777778,
              "#fb9f3a"
             ],
             [
              0.8888888888888888,
              "#fdca26"
             ],
             [
              1,
              "#f0f921"
             ]
            ],
            "type": "heatmapgl"
           }
          ],
          "histogram": [
           {
            "marker": {
             "pattern": {
              "fillmode": "overlay",
              "size": 10,
              "solidity": 0.2
             }
            },
            "type": "histogram"
           }
          ],
          "histogram2d": [
           {
            "colorbar": {
             "outlinewidth": 0,
             "ticks": ""
            },
            "colorscale": [
             [
              0,
              "#0d0887"
             ],
             [
              0.1111111111111111,
              "#46039f"
             ],
             [
              0.2222222222222222,
              "#7201a8"
             ],
             [
              0.3333333333333333,
              "#9c179e"
             ],
             [
              0.4444444444444444,
              "#bd3786"
             ],
             [
              0.5555555555555556,
              "#d8576b"
             ],
             [
              0.6666666666666666,
              "#ed7953"
             ],
             [
              0.7777777777777778,
              "#fb9f3a"
             ],
             [
              0.8888888888888888,
              "#fdca26"
             ],
             [
              1,
              "#f0f921"
             ]
            ],
            "type": "histogram2d"
           }
          ],
          "histogram2dcontour": [
           {
            "colorbar": {
             "outlinewidth": 0,
             "ticks": ""
            },
            "colorscale": [
             [
              0,
              "#0d0887"
             ],
             [
              0.1111111111111111,
              "#46039f"
             ],
             [
              0.2222222222222222,
              "#7201a8"
             ],
             [
              0.3333333333333333,
              "#9c179e"
             ],
             [
              0.4444444444444444,
              "#bd3786"
             ],
             [
              0.5555555555555556,
              "#d8576b"
             ],
             [
              0.6666666666666666,
              "#ed7953"
             ],
             [
              0.7777777777777778,
              "#fb9f3a"
             ],
             [
              0.8888888888888888,
              "#fdca26"
             ],
             [
              1,
              "#f0f921"
             ]
            ],
            "type": "histogram2dcontour"
           }
          ],
          "mesh3d": [
           {
            "colorbar": {
             "outlinewidth": 0,
             "ticks": ""
            },
            "type": "mesh3d"
           }
          ],
          "parcoords": [
           {
            "line": {
             "colorbar": {
              "outlinewidth": 0,
              "ticks": ""
             }
            },
            "type": "parcoords"
           }
          ],
          "pie": [
           {
            "automargin": true,
            "type": "pie"
           }
          ],
          "scatter": [
           {
            "fillpattern": {
             "fillmode": "overlay",
             "size": 10,
             "solidity": 0.2
            },
            "type": "scatter"
           }
          ],
          "scatter3d": [
           {
            "line": {
             "colorbar": {
              "outlinewidth": 0,
              "ticks": ""
             }
            },
            "marker": {
             "colorbar": {
              "outlinewidth": 0,
              "ticks": ""
             }
            },
            "type": "scatter3d"
           }
          ],
          "scattercarpet": [
           {
            "marker": {
             "colorbar": {
              "outlinewidth": 0,
              "ticks": ""
             }
            },
            "type": "scattercarpet"
           }
          ],
          "scattergeo": [
           {
            "marker": {
             "colorbar": {
              "outlinewidth": 0,
              "ticks": ""
             }
            },
            "type": "scattergeo"
           }
          ],
          "scattergl": [
           {
            "marker": {
             "colorbar": {
              "outlinewidth": 0,
              "ticks": ""
             }
            },
            "type": "scattergl"
           }
          ],
          "scattermapbox": [
           {
            "marker": {
             "colorbar": {
              "outlinewidth": 0,
              "ticks": ""
             }
            },
            "type": "scattermapbox"
           }
          ],
          "scatterpolar": [
           {
            "marker": {
             "colorbar": {
              "outlinewidth": 0,
              "ticks": ""
             }
            },
            "type": "scatterpolar"
           }
          ],
          "scatterpolargl": [
           {
            "marker": {
             "colorbar": {
              "outlinewidth": 0,
              "ticks": ""
             }
            },
            "type": "scatterpolargl"
           }
          ],
          "scatterternary": [
           {
            "marker": {
             "colorbar": {
              "outlinewidth": 0,
              "ticks": ""
             }
            },
            "type": "scatterternary"
           }
          ],
          "surface": [
           {
            "colorbar": {
             "outlinewidth": 0,
             "ticks": ""
            },
            "colorscale": [
             [
              0,
              "#0d0887"
             ],
             [
              0.1111111111111111,
              "#46039f"
             ],
             [
              0.2222222222222222,
              "#7201a8"
             ],
             [
              0.3333333333333333,
              "#9c179e"
             ],
             [
              0.4444444444444444,
              "#bd3786"
             ],
             [
              0.5555555555555556,
              "#d8576b"
             ],
             [
              0.6666666666666666,
              "#ed7953"
             ],
             [
              0.7777777777777778,
              "#fb9f3a"
             ],
             [
              0.8888888888888888,
              "#fdca26"
             ],
             [
              1,
              "#f0f921"
             ]
            ],
            "type": "surface"
           }
          ],
          "table": [
           {
            "cells": {
             "fill": {
              "color": "#EBF0F8"
             },
             "line": {
              "color": "white"
             }
            },
            "header": {
             "fill": {
              "color": "#C8D4E3"
             },
             "line": {
              "color": "white"
             }
            },
            "type": "table"
           }
          ]
         },
         "layout": {
          "annotationdefaults": {
           "arrowcolor": "#2a3f5f",
           "arrowhead": 0,
           "arrowwidth": 1
          },
          "autotypenumbers": "strict",
          "coloraxis": {
           "colorbar": {
            "outlinewidth": 0,
            "ticks": ""
           }
          },
          "colorscale": {
           "diverging": [
            [
             0,
             "#8e0152"
            ],
            [
             0.1,
             "#c51b7d"
            ],
            [
             0.2,
             "#de77ae"
            ],
            [
             0.3,
             "#f1b6da"
            ],
            [
             0.4,
             "#fde0ef"
            ],
            [
             0.5,
             "#f7f7f7"
            ],
            [
             0.6,
             "#e6f5d0"
            ],
            [
             0.7,
             "#b8e186"
            ],
            [
             0.8,
             "#7fbc41"
            ],
            [
             0.9,
             "#4d9221"
            ],
            [
             1,
             "#276419"
            ]
           ],
           "sequential": [
            [
             0,
             "#0d0887"
            ],
            [
             0.1111111111111111,
             "#46039f"
            ],
            [
             0.2222222222222222,
             "#7201a8"
            ],
            [
             0.3333333333333333,
             "#9c179e"
            ],
            [
             0.4444444444444444,
             "#bd3786"
            ],
            [
             0.5555555555555556,
             "#d8576b"
            ],
            [
             0.6666666666666666,
             "#ed7953"
            ],
            [
             0.7777777777777778,
             "#fb9f3a"
            ],
            [
             0.8888888888888888,
             "#fdca26"
            ],
            [
             1,
             "#f0f921"
            ]
           ],
           "sequentialminus": [
            [
             0,
             "#0d0887"
            ],
            [
             0.1111111111111111,
             "#46039f"
            ],
            [
             0.2222222222222222,
             "#7201a8"
            ],
            [
             0.3333333333333333,
             "#9c179e"
            ],
            [
             0.4444444444444444,
             "#bd3786"
            ],
            [
             0.5555555555555556,
             "#d8576b"
            ],
            [
             0.6666666666666666,
             "#ed7953"
            ],
            [
             0.7777777777777778,
             "#fb9f3a"
            ],
            [
             0.8888888888888888,
             "#fdca26"
            ],
            [
             1,
             "#f0f921"
            ]
           ]
          },
          "colorway": [
           "#636efa",
           "#EF553B",
           "#00cc96",
           "#ab63fa",
           "#FFA15A",
           "#19d3f3",
           "#FF6692",
           "#B6E880",
           "#FF97FF",
           "#FECB52"
          ],
          "font": {
           "color": "#2a3f5f"
          },
          "geo": {
           "bgcolor": "white",
           "lakecolor": "white",
           "landcolor": "#E5ECF6",
           "showlakes": true,
           "showland": true,
           "subunitcolor": "white"
          },
          "hoverlabel": {
           "align": "left"
          },
          "hovermode": "closest",
          "mapbox": {
           "style": "light"
          },
          "paper_bgcolor": "white",
          "plot_bgcolor": "#E5ECF6",
          "polar": {
           "angularaxis": {
            "gridcolor": "white",
            "linecolor": "white",
            "ticks": ""
           },
           "bgcolor": "#E5ECF6",
           "radialaxis": {
            "gridcolor": "white",
            "linecolor": "white",
            "ticks": ""
           }
          },
          "scene": {
           "xaxis": {
            "backgroundcolor": "#E5ECF6",
            "gridcolor": "white",
            "gridwidth": 2,
            "linecolor": "white",
            "showbackground": true,
            "ticks": "",
            "zerolinecolor": "white"
           },
           "yaxis": {
            "backgroundcolor": "#E5ECF6",
            "gridcolor": "white",
            "gridwidth": 2,
            "linecolor": "white",
            "showbackground": true,
            "ticks": "",
            "zerolinecolor": "white"
           },
           "zaxis": {
            "backgroundcolor": "#E5ECF6",
            "gridcolor": "white",
            "gridwidth": 2,
            "linecolor": "white",
            "showbackground": true,
            "ticks": "",
            "zerolinecolor": "white"
           }
          },
          "shapedefaults": {
           "line": {
            "color": "#2a3f5f"
           }
          },
          "ternary": {
           "aaxis": {
            "gridcolor": "white",
            "linecolor": "white",
            "ticks": ""
           },
           "baxis": {
            "gridcolor": "white",
            "linecolor": "white",
            "ticks": ""
           },
           "bgcolor": "#E5ECF6",
           "caxis": {
            "gridcolor": "white",
            "linecolor": "white",
            "ticks": ""
           }
          },
          "title": {
           "x": 0.05
          },
          "xaxis": {
           "automargin": true,
           "gridcolor": "white",
           "linecolor": "white",
           "ticks": "",
           "title": {
            "standoff": 15
           },
           "zerolinecolor": "white",
           "zerolinewidth": 2
          },
          "yaxis": {
           "automargin": true,
           "gridcolor": "white",
           "linecolor": "white",
           "ticks": "",
           "title": {
            "standoff": 15
           },
           "zerolinecolor": "white",
           "zerolinewidth": 2
          }
         }
        },
        "title": {
         "text": "Type of Denominations (Percentage)"
        },
        "xaxis": {
         "title": {
          "text": "Month Year"
         }
        },
        "yaxis": {
         "title": {
          "text": "Percentage"
         }
        }
       }
      }
     },
     "metadata": {},
     "output_type": "display_data"
    }
   ],
   "source": [
    "\n",
    "# Normalize counts to percentages\n",
    "df_grouped_percent = df_grouped.div(df_grouped.sum(axis=1), axis=0) * 100\n",
    "\n",
    "# Create stacked area chart\n",
    "trace1 = go.Scatter(\n",
    "    x=df_grouped_percent.index,\n",
    "    y=df_grouped_percent[1000],\n",
    "    mode='lines',\n",
    "    stackgroup='one',\n",
    "    name='1 Thousand'\n",
    ")\n",
    "trace2 = go.Scatter(\n",
    "    x=df_grouped_percent.index,\n",
    "    y=df_grouped_percent[10000],\n",
    "    mode='lines',\n",
    "    stackgroup='one',\n",
    "    name='10 Thousand'\n",
    ")\n",
    "trace3 = go.Scatter(\n",
    "    x=df_grouped_percent.index,\n",
    "    y=df_grouped_percent[100000],\n",
    "    mode='lines',\n",
    "    stackgroup='one',\n",
    "    name='1 Lakh'\n",
    ")\n",
    "trace4 = go.Scatter(\n",
    "    x=df_grouped_percent.index,\n",
    "    y=df_grouped_percent[1000000],\n",
    "    mode='lines',\n",
    "    stackgroup='one',\n",
    "    name='10 Lakh'\n",
    ")\n",
    "trace5 = go.Scatter(\n",
    "    x=df_grouped_percent.index,\n",
    "    y=df_grouped_percent[10000000],\n",
    "    mode='lines',\n",
    "    stackgroup='one',\n",
    "    name='1 Crore'\n",
    ")\n",
    "\n",
    "data = [trace1, trace2, trace3, trace4, trace5]\n",
    "\n",
    "layout = go.Layout(\n",
    "    title='Type of Denominations (Percentage)',\n",
    "    xaxis=dict(title='Month Year'),\n",
    "    yaxis=dict(title='Percentage'),\n",
    "    hovermode='x'\n",
    ")\n",
    "\n",
    "fig = go.Figure(data=data, layout=layout)\n",
    "fig.show()"
   ]
  },
  {
   "cell_type": "code",
   "execution_count": 14,
   "metadata": {},
   "outputs": [
    {
     "data": {
      "text/html": [
       "<div>\n",
       "<style scoped>\n",
       "    .dataframe tbody tr th:only-of-type {\n",
       "        vertical-align: middle;\n",
       "    }\n",
       "\n",
       "    .dataframe tbody tr th {\n",
       "        vertical-align: top;\n",
       "    }\n",
       "\n",
       "    .dataframe thead th {\n",
       "        text-align: right;\n",
       "    }\n",
       "</style>\n",
       "<table border=\"1\" class=\"dataframe\">\n",
       "  <thead>\n",
       "    <tr style=\"text-align: right;\">\n",
       "      <th></th>\n",
       "      <th>Date_of_Encashment</th>\n",
       "      <th>Name_of_Party</th>\n",
       "      <th>Denomination</th>\n",
       "      <th>Month_Year</th>\n",
       "    </tr>\n",
       "  </thead>\n",
       "  <tbody>\n",
       "    <tr>\n",
       "      <th>0</th>\n",
       "      <td>2019-04-12</td>\n",
       "      <td>ALL INDIA ANNA DRAVIDA MUNNETRA KAZHAGAM</td>\n",
       "      <td>1000000.0</td>\n",
       "      <td>Apr-2019</td>\n",
       "    </tr>\n",
       "    <tr>\n",
       "      <th>1</th>\n",
       "      <td>2019-04-12</td>\n",
       "      <td>ALL INDIA ANNA DRAVIDA MUNNETRA KAZHAGAM</td>\n",
       "      <td>1000000.0</td>\n",
       "      <td>Apr-2019</td>\n",
       "    </tr>\n",
       "    <tr>\n",
       "      <th>2</th>\n",
       "      <td>2019-04-12</td>\n",
       "      <td>ALL INDIA ANNA DRAVIDA MUNNETRA KAZHAGAM</td>\n",
       "      <td>10000000.0</td>\n",
       "      <td>Apr-2019</td>\n",
       "    </tr>\n",
       "    <tr>\n",
       "      <th>3</th>\n",
       "      <td>2019-04-12</td>\n",
       "      <td>ALL INDIA ANNA DRAVIDA MUNNETRA KAZHAGAM</td>\n",
       "      <td>1000000.0</td>\n",
       "      <td>Apr-2019</td>\n",
       "    </tr>\n",
       "    <tr>\n",
       "      <th>4</th>\n",
       "      <td>2019-04-12</td>\n",
       "      <td>ALL INDIA ANNA DRAVIDA MUNNETRA KAZHAGAM</td>\n",
       "      <td>1000000.0</td>\n",
       "      <td>Apr-2019</td>\n",
       "    </tr>\n",
       "    <tr>\n",
       "      <th>...</th>\n",
       "      <td>...</td>\n",
       "      <td>...</td>\n",
       "      <td>...</td>\n",
       "      <td>...</td>\n",
       "    </tr>\n",
       "    <tr>\n",
       "      <th>20416</th>\n",
       "      <td>2024-01-24</td>\n",
       "      <td>JANASENA PARTY</td>\n",
       "      <td>1000000.0</td>\n",
       "      <td>Jan-2024</td>\n",
       "    </tr>\n",
       "    <tr>\n",
       "      <th>20417</th>\n",
       "      <td>2024-01-24</td>\n",
       "      <td>JANASENA PARTY</td>\n",
       "      <td>1000000.0</td>\n",
       "      <td>Jan-2024</td>\n",
       "    </tr>\n",
       "    <tr>\n",
       "      <th>20418</th>\n",
       "      <td>2024-01-24</td>\n",
       "      <td>JANASENA PARTY</td>\n",
       "      <td>1000000.0</td>\n",
       "      <td>Jan-2024</td>\n",
       "    </tr>\n",
       "    <tr>\n",
       "      <th>20419</th>\n",
       "      <td>2024-01-24</td>\n",
       "      <td>JANASENA PARTY</td>\n",
       "      <td>1000000.0</td>\n",
       "      <td>Jan-2024</td>\n",
       "    </tr>\n",
       "    <tr>\n",
       "      <th>20420</th>\n",
       "      <td>2024-01-24</td>\n",
       "      <td>JANASENA PARTY</td>\n",
       "      <td>1000000.0</td>\n",
       "      <td>Jan-2024</td>\n",
       "    </tr>\n",
       "  </tbody>\n",
       "</table>\n",
       "<p>20421 rows × 4 columns</p>\n",
       "</div>"
      ],
      "text/plain": [
       "      Date_of_Encashment                             Name_of_Party  \\\n",
       "0             2019-04-12  ALL INDIA ANNA DRAVIDA MUNNETRA KAZHAGAM   \n",
       "1             2019-04-12  ALL INDIA ANNA DRAVIDA MUNNETRA KAZHAGAM   \n",
       "2             2019-04-12  ALL INDIA ANNA DRAVIDA MUNNETRA KAZHAGAM   \n",
       "3             2019-04-12  ALL INDIA ANNA DRAVIDA MUNNETRA KAZHAGAM   \n",
       "4             2019-04-12  ALL INDIA ANNA DRAVIDA MUNNETRA KAZHAGAM   \n",
       "...                  ...                                       ...   \n",
       "20416         2024-01-24                            JANASENA PARTY   \n",
       "20417         2024-01-24                            JANASENA PARTY   \n",
       "20418         2024-01-24                            JANASENA PARTY   \n",
       "20419         2024-01-24                            JANASENA PARTY   \n",
       "20420         2024-01-24                            JANASENA PARTY   \n",
       "\n",
       "       Denomination Month_Year  \n",
       "0         1000000.0   Apr-2019  \n",
       "1         1000000.0   Apr-2019  \n",
       "2        10000000.0   Apr-2019  \n",
       "3         1000000.0   Apr-2019  \n",
       "4         1000000.0   Apr-2019  \n",
       "...             ...        ...  \n",
       "20416     1000000.0   Jan-2024  \n",
       "20417     1000000.0   Jan-2024  \n",
       "20418     1000000.0   Jan-2024  \n",
       "20419     1000000.0   Jan-2024  \n",
       "20420     1000000.0   Jan-2024  \n",
       "\n",
       "[20421 rows x 4 columns]"
      ]
     },
     "execution_count": 14,
     "metadata": {},
     "output_type": "execute_result"
    }
   ],
   "source": [
    "data2"
   ]
  },
  {
   "cell_type": "code",
   "execution_count": 15,
   "metadata": {},
   "outputs": [
    {
     "ename": "AttributeError",
     "evalue": "'list' object has no attribute 'groupby'",
     "output_type": "error",
     "traceback": [
      "\u001b[1;31m---------------------------------------------------------------------------\u001b[0m",
      "\u001b[1;31mAttributeError\u001b[0m                            Traceback (most recent call last)",
      "\u001b[1;32m~\\AppData\\Local\\Temp\\ipykernel_23992\\3999561038.py\u001b[0m in \u001b[0;36m<module>\u001b[1;34m\u001b[0m\n\u001b[1;32m----> 1\u001b[1;33m \u001b[0mdict_x\u001b[0m\u001b[1;33m=\u001b[0m \u001b[0mdata\u001b[0m\u001b[1;33m.\u001b[0m\u001b[0mgroupby\u001b[0m\u001b[1;33m(\u001b[0m\u001b[1;34m\"Purchaser_Name\"\u001b[0m\u001b[1;33m)\u001b[0m\u001b[1;33m[\u001b[0m\u001b[1;34m\"Denomination\"\u001b[0m\u001b[1;33m]\u001b[0m\u001b[1;33m.\u001b[0m\u001b[0mapply\u001b[0m\u001b[1;33m(\u001b[0m\u001b[0msum\u001b[0m\u001b[1;33m)\u001b[0m\u001b[1;33m.\u001b[0m\u001b[0mto_dict\u001b[0m\u001b[1;33m(\u001b[0m\u001b[1;33m)\u001b[0m\u001b[1;33m\u001b[0m\u001b[1;33m\u001b[0m\u001b[0m\n\u001b[0m",
      "\u001b[1;31mAttributeError\u001b[0m: 'list' object has no attribute 'groupby'"
     ]
    }
   ],
   "source": [
    "dict_x= data.groupby(\"Purchaser_Name\")[\"Denomination\"].apply(sum).to_dict()"
   ]
  },
  {
   "cell_type": "code",
   "execution_count": 16,
   "metadata": {},
   "outputs": [
    {
     "ename": "NameError",
     "evalue": "name 'dict_x' is not defined",
     "output_type": "error",
     "traceback": [
      "\u001b[1;31m---------------------------------------------------------------------------\u001b[0m",
      "\u001b[1;31mNameError\u001b[0m                                 Traceback (most recent call last)",
      "\u001b[1;32m~\\AppData\\Local\\Temp\\ipykernel_23992\\3248782772.py\u001b[0m in \u001b[0;36m<module>\u001b[1;34m\u001b[0m\n\u001b[1;32m----> 1\u001b[1;33m \u001b[0mdict_x\u001b[0m\u001b[1;33m\u001b[0m\u001b[1;33m\u001b[0m\u001b[0m\n\u001b[0m",
      "\u001b[1;31mNameError\u001b[0m: name 'dict_x' is not defined"
     ]
    }
   ],
   "source": [
    "dict_x"
   ]
  },
  {
   "cell_type": "code",
   "execution_count": 17,
   "metadata": {},
   "outputs": [
    {
     "ename": "NameError",
     "evalue": "name 'dict_x' is not defined",
     "output_type": "error",
     "traceback": [
      "\u001b[1;31m---------------------------------------------------------------------------\u001b[0m",
      "\u001b[1;31mNameError\u001b[0m                                 Traceback (most recent call last)",
      "\u001b[1;32m~\\AppData\\Local\\Temp\\ipykernel_23992\\1215819287.py\u001b[0m in \u001b[0;36m<module>\u001b[1;34m\u001b[0m\n\u001b[0;32m      1\u001b[0m \u001b[1;31m# Create a histogram trace\u001b[0m\u001b[1;33m\u001b[0m\u001b[1;33m\u001b[0m\u001b[0m\n\u001b[1;32m----> 2\u001b[1;33m \u001b[0mhistogram_trace\u001b[0m \u001b[1;33m=\u001b[0m \u001b[0mgo\u001b[0m\u001b[1;33m.\u001b[0m\u001b[0mHistogram\u001b[0m\u001b[1;33m(\u001b[0m\u001b[0mx\u001b[0m\u001b[1;33m=\u001b[0m\u001b[0mlist\u001b[0m\u001b[1;33m(\u001b[0m\u001b[0mdict_x\u001b[0m\u001b[1;33m.\u001b[0m\u001b[0mvalues\u001b[0m\u001b[1;33m(\u001b[0m\u001b[1;33m)\u001b[0m\u001b[1;33m)\u001b[0m\u001b[1;33m,\u001b[0m \u001b[0mxbins\u001b[0m\u001b[1;33m=\u001b[0m\u001b[0mdict\u001b[0m\u001b[1;33m(\u001b[0m\u001b[0mstart\u001b[0m\u001b[1;33m=\u001b[0m\u001b[1;36m1000\u001b[0m\u001b[1;33m,\u001b[0m \u001b[0mend\u001b[0m\u001b[1;33m=\u001b[0m\u001b[1;36m10000000\u001b[0m\u001b[1;33m,\u001b[0m \u001b[0msize\u001b[0m\u001b[1;33m=\u001b[0m\u001b[1;36m1000000\u001b[0m\u001b[1;33m)\u001b[0m\u001b[1;33m,\u001b[0m \u001b[0mmarker\u001b[0m\u001b[1;33m=\u001b[0m\u001b[0mdict\u001b[0m\u001b[1;33m(\u001b[0m\u001b[0mcolor\u001b[0m\u001b[1;33m=\u001b[0m\u001b[1;34m'blue'\u001b[0m\u001b[1;33m)\u001b[0m\u001b[1;33m)\u001b[0m\u001b[1;33m\u001b[0m\u001b[1;33m\u001b[0m\u001b[0m\n\u001b[0m\u001b[0;32m      3\u001b[0m \u001b[1;33m\u001b[0m\u001b[0m\n\u001b[0;32m      4\u001b[0m \u001b[1;31m# Create a layout\u001b[0m\u001b[1;33m\u001b[0m\u001b[1;33m\u001b[0m\u001b[0m\n\u001b[0;32m      5\u001b[0m layout = go.Layout(\n",
      "\u001b[1;31mNameError\u001b[0m: name 'dict_x' is not defined"
     ]
    }
   ],
   "source": [
    "# Create a histogram trace\n",
    "histogram_trace = go.Histogram(x=list(dict_x.values()), xbins=dict(start=1000, end=10000000, size=1000000), marker=dict(color='blue'))\n",
    "\n",
    "# Create a layout\n",
    "layout = go.Layout(\n",
    "    title='Histogram of Values from Dictionary',\n",
    "    xaxis=dict(title='Values'),\n",
    "    yaxis=dict(title='Frequency')\n",
    ")\n",
    "\n",
    "# Create a figure\n",
    "fig = go.Figure(data=[histogram_trace], layout=layout)\n",
    "\n",
    "# Show the figure\n",
    "fig.show()\n"
   ]
  },
  {
   "cell_type": "code",
   "execution_count": 18,
   "metadata": {},
   "outputs": [
    {
     "ename": "NameError",
     "evalue": "name 'dict_x' is not defined",
     "output_type": "error",
     "traceback": [
      "\u001b[1;31m---------------------------------------------------------------------------\u001b[0m",
      "\u001b[1;31mNameError\u001b[0m                                 Traceback (most recent call last)",
      "\u001b[1;32m~\\AppData\\Local\\Temp\\ipykernel_23992\\778701550.py\u001b[0m in \u001b[0;36m<module>\u001b[1;34m\u001b[0m\n\u001b[1;32m----> 1\u001b[1;33m \u001b[0msorted_data\u001b[0m \u001b[1;33m=\u001b[0m \u001b[0mdict\u001b[0m\u001b[1;33m(\u001b[0m\u001b[0msorted\u001b[0m\u001b[1;33m(\u001b[0m\u001b[0mdict_x\u001b[0m\u001b[1;33m.\u001b[0m\u001b[0mitems\u001b[0m\u001b[1;33m(\u001b[0m\u001b[1;33m)\u001b[0m\u001b[1;33m,\u001b[0m \u001b[0mkey\u001b[0m\u001b[1;33m=\u001b[0m\u001b[1;32mlambda\u001b[0m \u001b[0mitem\u001b[0m\u001b[1;33m:\u001b[0m \u001b[0mitem\u001b[0m\u001b[1;33m[\u001b[0m\u001b[1;36m1\u001b[0m\u001b[1;33m]\u001b[0m\u001b[1;33m)\u001b[0m\u001b[1;33m)\u001b[0m\u001b[1;33m\u001b[0m\u001b[1;33m\u001b[0m\u001b[0m\n\u001b[0m",
      "\u001b[1;31mNameError\u001b[0m: name 'dict_x' is not defined"
     ]
    }
   ],
   "source": [
    "sorted_data = dict(sorted(dict_x.items(), key=lambda item: item[1]))\n"
   ]
  },
  {
   "cell_type": "code",
   "execution_count": 19,
   "metadata": {},
   "outputs": [
    {
     "ename": "NameError",
     "evalue": "name 'sorted_data' is not defined",
     "output_type": "error",
     "traceback": [
      "\u001b[1;31m---------------------------------------------------------------------------\u001b[0m",
      "\u001b[1;31mNameError\u001b[0m                                 Traceback (most recent call last)",
      "\u001b[1;32m~\\AppData\\Local\\Temp\\ipykernel_23992\\1672750226.py\u001b[0m in \u001b[0;36m<module>\u001b[1;34m\u001b[0m\n\u001b[1;32m----> 1\u001b[1;33m \u001b[0mdict\u001b[0m\u001b[1;33m(\u001b[0m\u001b[0mlist\u001b[0m\u001b[1;33m(\u001b[0m\u001b[0msorted_data\u001b[0m\u001b[1;33m.\u001b[0m\u001b[0mitems\u001b[0m\u001b[1;33m(\u001b[0m\u001b[1;33m)\u001b[0m\u001b[1;33m)\u001b[0m\u001b[1;33m[\u001b[0m\u001b[1;33m-\u001b[0m\u001b[1;36m20\u001b[0m\u001b[1;33m:\u001b[0m\u001b[1;33m]\u001b[0m\u001b[1;33m)\u001b[0m\u001b[1;33m\u001b[0m\u001b[1;33m\u001b[0m\u001b[0m\n\u001b[0m",
      "\u001b[1;31mNameError\u001b[0m: name 'sorted_data' is not defined"
     ]
    }
   ],
   "source": [
    "dict(list(sorted_data.items())[-20:])"
   ]
  },
  {
   "cell_type": "code",
   "execution_count": 20,
   "metadata": {},
   "outputs": [],
   "source": [
    "parties = pd.read_csv('assets/parties.csv', parse_dates=['Date_of_Encashment'])\n",
    "purchasers = pd.read_csv('assets/purchasers.csv', parse_dates=['Date_of_Purchase'])\n",
    "\n",
    "df = pd.merge(purchasers,parties,how='left',left_on='Bond_number',right_on='Bond_number').dropna(axis=0)\n"
   ]
  },
  {
   "cell_type": "code",
   "execution_count": 21,
   "metadata": {},
   "outputs": [
    {
     "data": {
      "text/html": [
       "<div>\n",
       "<style scoped>\n",
       "    .dataframe tbody tr th:only-of-type {\n",
       "        vertical-align: middle;\n",
       "    }\n",
       "\n",
       "    .dataframe tbody tr th {\n",
       "        vertical-align: top;\n",
       "    }\n",
       "\n",
       "    .dataframe thead th {\n",
       "        text-align: right;\n",
       "    }\n",
       "</style>\n",
       "<table border=\"1\" class=\"dataframe\">\n",
       "  <thead>\n",
       "    <tr style=\"text-align: right;\">\n",
       "      <th></th>\n",
       "      <th>Sr_No._x</th>\n",
       "      <th>Reference_No_(URN)</th>\n",
       "      <th>Journal_Date</th>\n",
       "      <th>Date_of_Purchase</th>\n",
       "      <th>Date_of_Expiry</th>\n",
       "      <th>Name_of_Purchaser</th>\n",
       "      <th>Prefix_x</th>\n",
       "      <th>Bond_Number_x</th>\n",
       "      <th>Denominations_x</th>\n",
       "      <th>Issue_Branch_Code</th>\n",
       "      <th>...</th>\n",
       "      <th>Bond_number</th>\n",
       "      <th>Sr_No._y</th>\n",
       "      <th>Date_of_Encashment</th>\n",
       "      <th>Name_of_Political_Party</th>\n",
       "      <th>Account_no.</th>\n",
       "      <th>Prefix_y</th>\n",
       "      <th>Bond_Number_y</th>\n",
       "      <th>Denominations_y</th>\n",
       "      <th>Pay_Branch_Code</th>\n",
       "      <th>Pay_Teller</th>\n",
       "    </tr>\n",
       "  </thead>\n",
       "  <tbody>\n",
       "    <tr>\n",
       "      <th>0</th>\n",
       "      <td>1</td>\n",
       "      <td>00001201904120000001166</td>\n",
       "      <td>4/12/2019 0:00</td>\n",
       "      <td>2019-04-12</td>\n",
       "      <td>4/26/2019 0:00</td>\n",
       "      <td>A B C INDIA LIMITED</td>\n",
       "      <td>TL</td>\n",
       "      <td>11448</td>\n",
       "      <td>1000000</td>\n",
       "      <td>1</td>\n",
       "      <td>...</td>\n",
       "      <td>TL11448</td>\n",
       "      <td>2766.0</td>\n",
       "      <td>2019-04-25</td>\n",
       "      <td>BHARATIYA JANATA PARTY</td>\n",
       "      <td>*******8244</td>\n",
       "      <td>TL</td>\n",
       "      <td>11448.0</td>\n",
       "      <td>1000000.0</td>\n",
       "      <td>691.0</td>\n",
       "      <td>3300196.0</td>\n",
       "    </tr>\n",
       "    <tr>\n",
       "      <th>1</th>\n",
       "      <td>2</td>\n",
       "      <td>00001201904120000001166</td>\n",
       "      <td>4/12/2019 0:00</td>\n",
       "      <td>2019-04-12</td>\n",
       "      <td>4/26/2019 0:00</td>\n",
       "      <td>A B C INDIA LIMITED</td>\n",
       "      <td>TL</td>\n",
       "      <td>11447</td>\n",
       "      <td>1000000</td>\n",
       "      <td>1</td>\n",
       "      <td>...</td>\n",
       "      <td>TL11447</td>\n",
       "      <td>2767.0</td>\n",
       "      <td>2019-04-25</td>\n",
       "      <td>BHARATIYA JANATA PARTY</td>\n",
       "      <td>*******8244</td>\n",
       "      <td>TL</td>\n",
       "      <td>11447.0</td>\n",
       "      <td>1000000.0</td>\n",
       "      <td>691.0</td>\n",
       "      <td>3300196.0</td>\n",
       "    </tr>\n",
       "    <tr>\n",
       "      <th>2</th>\n",
       "      <td>3</td>\n",
       "      <td>00001201904120000001166</td>\n",
       "      <td>4/12/2019 0:00</td>\n",
       "      <td>2019-04-12</td>\n",
       "      <td>4/26/2019 0:00</td>\n",
       "      <td>A B C INDIA LIMITED</td>\n",
       "      <td>TL</td>\n",
       "      <td>11441</td>\n",
       "      <td>1000000</td>\n",
       "      <td>1</td>\n",
       "      <td>...</td>\n",
       "      <td>TL11441</td>\n",
       "      <td>2768.0</td>\n",
       "      <td>2019-04-25</td>\n",
       "      <td>BHARATIYA JANATA PARTY</td>\n",
       "      <td>*******8244</td>\n",
       "      <td>TL</td>\n",
       "      <td>11441.0</td>\n",
       "      <td>1000000.0</td>\n",
       "      <td>691.0</td>\n",
       "      <td>3300196.0</td>\n",
       "    </tr>\n",
       "    <tr>\n",
       "      <th>3</th>\n",
       "      <td>4</td>\n",
       "      <td>00001201904120000001166</td>\n",
       "      <td>4/12/2019 0:00</td>\n",
       "      <td>2019-04-12</td>\n",
       "      <td>4/26/2019 0:00</td>\n",
       "      <td>A B C INDIA LIMITED</td>\n",
       "      <td>OL</td>\n",
       "      <td>1113</td>\n",
       "      <td>100000</td>\n",
       "      <td>1</td>\n",
       "      <td>...</td>\n",
       "      <td>OL1113</td>\n",
       "      <td>2807.0</td>\n",
       "      <td>2019-04-25</td>\n",
       "      <td>BHARATIYA JANATA PARTY</td>\n",
       "      <td>*******8244</td>\n",
       "      <td>OL</td>\n",
       "      <td>1113.0</td>\n",
       "      <td>100000.0</td>\n",
       "      <td>691.0</td>\n",
       "      <td>3300196.0</td>\n",
       "    </tr>\n",
       "    <tr>\n",
       "      <th>4</th>\n",
       "      <td>5</td>\n",
       "      <td>00001201904120000001166</td>\n",
       "      <td>4/12/2019 0:00</td>\n",
       "      <td>2019-04-12</td>\n",
       "      <td>4/26/2019 0:00</td>\n",
       "      <td>A B C INDIA LIMITED</td>\n",
       "      <td>OL</td>\n",
       "      <td>1118</td>\n",
       "      <td>100000</td>\n",
       "      <td>1</td>\n",
       "      <td>...</td>\n",
       "      <td>OL1118</td>\n",
       "      <td>2808.0</td>\n",
       "      <td>2019-04-25</td>\n",
       "      <td>BHARATIYA JANATA PARTY</td>\n",
       "      <td>*******8244</td>\n",
       "      <td>OL</td>\n",
       "      <td>1118.0</td>\n",
       "      <td>100000.0</td>\n",
       "      <td>691.0</td>\n",
       "      <td>3300196.0</td>\n",
       "    </tr>\n",
       "    <tr>\n",
       "      <th>...</th>\n",
       "      <td>...</td>\n",
       "      <td>...</td>\n",
       "      <td>...</td>\n",
       "      <td>...</td>\n",
       "      <td>...</td>\n",
       "      <td>...</td>\n",
       "      <td>...</td>\n",
       "      <td>...</td>\n",
       "      <td>...</td>\n",
       "      <td>...</td>\n",
       "      <td>...</td>\n",
       "      <td>...</td>\n",
       "      <td>...</td>\n",
       "      <td>...</td>\n",
       "      <td>...</td>\n",
       "      <td>...</td>\n",
       "      <td>...</td>\n",
       "      <td>...</td>\n",
       "      <td>...</td>\n",
       "      <td>...</td>\n",
       "      <td>...</td>\n",
       "    </tr>\n",
       "    <tr>\n",
       "      <th>18866</th>\n",
       "      <td>18867</td>\n",
       "      <td>00001202401110000003729</td>\n",
       "      <td>1/11/2024 0:00</td>\n",
       "      <td>2024-01-11</td>\n",
       "      <td>1/25/2024 0:00</td>\n",
       "      <td>WESTWELL GASES PRIVATE LIMITED</td>\n",
       "      <td>OC</td>\n",
       "      <td>15695</td>\n",
       "      <td>10000000</td>\n",
       "      <td>1</td>\n",
       "      <td>...</td>\n",
       "      <td>OC15695</td>\n",
       "      <td>20400.0</td>\n",
       "      <td>2024-01-23</td>\n",
       "      <td>DRAVIDA MUNNETRA KAZHAGAM (DMK)</td>\n",
       "      <td>*******8935</td>\n",
       "      <td>OC</td>\n",
       "      <td>15695.0</td>\n",
       "      <td>10000000.0</td>\n",
       "      <td>800.0</td>\n",
       "      <td>1011942.0</td>\n",
       "    </tr>\n",
       "    <tr>\n",
       "      <th>18867</th>\n",
       "      <td>18868</td>\n",
       "      <td>00001202401110000003729</td>\n",
       "      <td>1/11/2024 0:00</td>\n",
       "      <td>2024-01-11</td>\n",
       "      <td>1/25/2024 0:00</td>\n",
       "      <td>WESTWELL GASES PRIVATE LIMITED</td>\n",
       "      <td>OC</td>\n",
       "      <td>15693</td>\n",
       "      <td>10000000</td>\n",
       "      <td>1</td>\n",
       "      <td>...</td>\n",
       "      <td>OC15693</td>\n",
       "      <td>20401.0</td>\n",
       "      <td>2024-01-23</td>\n",
       "      <td>DRAVIDA MUNNETRA KAZHAGAM (DMK)</td>\n",
       "      <td>*******8935</td>\n",
       "      <td>OC</td>\n",
       "      <td>15693.0</td>\n",
       "      <td>10000000.0</td>\n",
       "      <td>800.0</td>\n",
       "      <td>1011942.0</td>\n",
       "    </tr>\n",
       "    <tr>\n",
       "      <th>18868</th>\n",
       "      <td>18869</td>\n",
       "      <td>00001202401110000003729</td>\n",
       "      <td>1/11/2024 0:00</td>\n",
       "      <td>2024-01-11</td>\n",
       "      <td>1/25/2024 0:00</td>\n",
       "      <td>WESTWELL GASES PRIVATE LIMITED</td>\n",
       "      <td>OC</td>\n",
       "      <td>15697</td>\n",
       "      <td>10000000</td>\n",
       "      <td>1</td>\n",
       "      <td>...</td>\n",
       "      <td>OC15697</td>\n",
       "      <td>20402.0</td>\n",
       "      <td>2024-01-23</td>\n",
       "      <td>DRAVIDA MUNNETRA KAZHAGAM (DMK)</td>\n",
       "      <td>*******8935</td>\n",
       "      <td>OC</td>\n",
       "      <td>15697.0</td>\n",
       "      <td>10000000.0</td>\n",
       "      <td>800.0</td>\n",
       "      <td>1011942.0</td>\n",
       "    </tr>\n",
       "    <tr>\n",
       "      <th>18869</th>\n",
       "      <td>18870</td>\n",
       "      <td>00001202401110000003729</td>\n",
       "      <td>1/11/2024 0:00</td>\n",
       "      <td>2024-01-11</td>\n",
       "      <td>1/25/2024 0:00</td>\n",
       "      <td>WESTWELL GASES PRIVATE LIMITED</td>\n",
       "      <td>OC</td>\n",
       "      <td>17803</td>\n",
       "      <td>10000000</td>\n",
       "      <td>1</td>\n",
       "      <td>...</td>\n",
       "      <td>OC17803</td>\n",
       "      <td>20403.0</td>\n",
       "      <td>2024-01-23</td>\n",
       "      <td>DRAVIDA MUNNETRA KAZHAGAM (DMK)</td>\n",
       "      <td>*******8935</td>\n",
       "      <td>OC</td>\n",
       "      <td>17803.0</td>\n",
       "      <td>10000000.0</td>\n",
       "      <td>800.0</td>\n",
       "      <td>1011942.0</td>\n",
       "    </tr>\n",
       "    <tr>\n",
       "      <th>18870</th>\n",
       "      <td>18871</td>\n",
       "      <td>00001202401110000003729</td>\n",
       "      <td>1/11/2024 0:00</td>\n",
       "      <td>2024-01-11</td>\n",
       "      <td>1/25/2024 0:00</td>\n",
       "      <td>WESTWELL GASES PRIVATE LIMITED</td>\n",
       "      <td>OC</td>\n",
       "      <td>15691</td>\n",
       "      <td>10000000</td>\n",
       "      <td>1</td>\n",
       "      <td>...</td>\n",
       "      <td>OC15691</td>\n",
       "      <td>20404.0</td>\n",
       "      <td>2024-01-23</td>\n",
       "      <td>DRAVIDA MUNNETRA KAZHAGAM (DMK)</td>\n",
       "      <td>*******8935</td>\n",
       "      <td>OC</td>\n",
       "      <td>15691.0</td>\n",
       "      <td>10000000.0</td>\n",
       "      <td>800.0</td>\n",
       "      <td>1011942.0</td>\n",
       "    </tr>\n",
       "  </tbody>\n",
       "</table>\n",
       "<p>18741 rows × 22 columns</p>\n",
       "</div>"
      ],
      "text/plain": [
       "       Sr_No._x       Reference_No_(URN)    Journal_Date Date_of_Purchase  \\\n",
       "0             1  00001201904120000001166  4/12/2019 0:00       2019-04-12   \n",
       "1             2  00001201904120000001166  4/12/2019 0:00       2019-04-12   \n",
       "2             3  00001201904120000001166  4/12/2019 0:00       2019-04-12   \n",
       "3             4  00001201904120000001166  4/12/2019 0:00       2019-04-12   \n",
       "4             5  00001201904120000001166  4/12/2019 0:00       2019-04-12   \n",
       "...         ...                      ...             ...              ...   \n",
       "18866     18867  00001202401110000003729  1/11/2024 0:00       2024-01-11   \n",
       "18867     18868  00001202401110000003729  1/11/2024 0:00       2024-01-11   \n",
       "18868     18869  00001202401110000003729  1/11/2024 0:00       2024-01-11   \n",
       "18869     18870  00001202401110000003729  1/11/2024 0:00       2024-01-11   \n",
       "18870     18871  00001202401110000003729  1/11/2024 0:00       2024-01-11   \n",
       "\n",
       "       Date_of_Expiry               Name_of_Purchaser Prefix_x  Bond_Number_x  \\\n",
       "0      4/26/2019 0:00             A B C INDIA LIMITED       TL          11448   \n",
       "1      4/26/2019 0:00             A B C INDIA LIMITED       TL          11447   \n",
       "2      4/26/2019 0:00             A B C INDIA LIMITED       TL          11441   \n",
       "3      4/26/2019 0:00             A B C INDIA LIMITED       OL           1113   \n",
       "4      4/26/2019 0:00             A B C INDIA LIMITED       OL           1118   \n",
       "...               ...                             ...      ...            ...   \n",
       "18866  1/25/2024 0:00  WESTWELL GASES PRIVATE LIMITED       OC          15695   \n",
       "18867  1/25/2024 0:00  WESTWELL GASES PRIVATE LIMITED       OC          15693   \n",
       "18868  1/25/2024 0:00  WESTWELL GASES PRIVATE LIMITED       OC          15697   \n",
       "18869  1/25/2024 0:00  WESTWELL GASES PRIVATE LIMITED       OC          17803   \n",
       "18870  1/25/2024 0:00  WESTWELL GASES PRIVATE LIMITED       OC          15691   \n",
       "\n",
       "       Denominations_x  Issue_Branch_Code  ...  Bond_number Sr_No._y  \\\n",
       "0              1000000                  1  ...      TL11448   2766.0   \n",
       "1              1000000                  1  ...      TL11447   2767.0   \n",
       "2              1000000                  1  ...      TL11441   2768.0   \n",
       "3               100000                  1  ...       OL1113   2807.0   \n",
       "4               100000                  1  ...       OL1118   2808.0   \n",
       "...                ...                ...  ...          ...      ...   \n",
       "18866         10000000                  1  ...      OC15695  20400.0   \n",
       "18867         10000000                  1  ...      OC15693  20401.0   \n",
       "18868         10000000                  1  ...      OC15697  20402.0   \n",
       "18869         10000000                  1  ...      OC17803  20403.0   \n",
       "18870         10000000                  1  ...      OC15691  20404.0   \n",
       "\n",
       "      Date_of_Encashment          Name_of_Political_Party  Account_no.  \\\n",
       "0             2019-04-25           BHARATIYA JANATA PARTY  *******8244   \n",
       "1             2019-04-25           BHARATIYA JANATA PARTY  *******8244   \n",
       "2             2019-04-25           BHARATIYA JANATA PARTY  *******8244   \n",
       "3             2019-04-25           BHARATIYA JANATA PARTY  *******8244   \n",
       "4             2019-04-25           BHARATIYA JANATA PARTY  *******8244   \n",
       "...                  ...                              ...          ...   \n",
       "18866         2024-01-23  DRAVIDA MUNNETRA KAZHAGAM (DMK)  *******8935   \n",
       "18867         2024-01-23  DRAVIDA MUNNETRA KAZHAGAM (DMK)  *******8935   \n",
       "18868         2024-01-23  DRAVIDA MUNNETRA KAZHAGAM (DMK)  *******8935   \n",
       "18869         2024-01-23  DRAVIDA MUNNETRA KAZHAGAM (DMK)  *******8935   \n",
       "18870         2024-01-23  DRAVIDA MUNNETRA KAZHAGAM (DMK)  *******8935   \n",
       "\n",
       "      Prefix_y Bond_Number_y Denominations_y  Pay_Branch_Code  Pay_Teller  \n",
       "0           TL       11448.0       1000000.0            691.0   3300196.0  \n",
       "1           TL       11447.0       1000000.0            691.0   3300196.0  \n",
       "2           TL       11441.0       1000000.0            691.0   3300196.0  \n",
       "3           OL        1113.0        100000.0            691.0   3300196.0  \n",
       "4           OL        1118.0        100000.0            691.0   3300196.0  \n",
       "...        ...           ...             ...              ...         ...  \n",
       "18866       OC       15695.0      10000000.0            800.0   1011942.0  \n",
       "18867       OC       15693.0      10000000.0            800.0   1011942.0  \n",
       "18868       OC       15697.0      10000000.0            800.0   1011942.0  \n",
       "18869       OC       17803.0      10000000.0            800.0   1011942.0  \n",
       "18870       OC       15691.0      10000000.0            800.0   1011942.0  \n",
       "\n",
       "[18741 rows x 22 columns]"
      ]
     },
     "execution_count": 21,
     "metadata": {},
     "output_type": "execute_result"
    }
   ],
   "source": [
    "df"
   ]
  },
  {
   "cell_type": "code",
   "execution_count": 92,
   "metadata": {},
   "outputs": [
    {
     "data": {
      "text/plain": [
       "Sr_No._x                            int64\n",
       "Reference_No_(URN)                 object\n",
       "Journal_Date                       object\n",
       "Date_of_Purchase           datetime64[ns]\n",
       "Date_of_Expiry                     object\n",
       "Name_of_Purchaser                  object\n",
       "Prefix_x                           object\n",
       "Bond_Number_x                       int64\n",
       "Denominations_x                     int64\n",
       "Issue_Branch_Code                   int64\n",
       "Issue_Teller                        int64\n",
       "Status                             object\n",
       "Bond_number                        object\n",
       "Sr_No._y                          float64\n",
       "Date_of_Encashment         datetime64[ns]\n",
       "Name_of_Political_Party            object\n",
       "Account_no.                        object\n",
       "Prefix_y                           object\n",
       "Bond_Number_y                     float64\n",
       "Denominations_y                   float64\n",
       "Pay_Branch_Code                   float64\n",
       "Pay_Teller                        float64\n",
       "dtype: object"
      ]
     },
     "execution_count": 92,
     "metadata": {},
     "output_type": "execute_result"
    }
   ],
   "source": [
    "filtered_df.dtypes"
   ]
  },
  {
   "cell_type": "code",
   "execution_count": 65,
   "metadata": {},
   "outputs": [],
   "source": [
    "filtered_df = df.loc[df['Date_of_Purchase'] < 'Feb-2024']"
   ]
  },
  {
   "cell_type": "code",
   "execution_count": 66,
   "metadata": {},
   "outputs": [
    {
     "data": {
      "text/html": [
       "<div>\n",
       "<style scoped>\n",
       "    .dataframe tbody tr th:only-of-type {\n",
       "        vertical-align: middle;\n",
       "    }\n",
       "\n",
       "    .dataframe tbody tr th {\n",
       "        vertical-align: top;\n",
       "    }\n",
       "\n",
       "    .dataframe thead th {\n",
       "        text-align: right;\n",
       "    }\n",
       "</style>\n",
       "<table border=\"1\" class=\"dataframe\">\n",
       "  <thead>\n",
       "    <tr style=\"text-align: right;\">\n",
       "      <th></th>\n",
       "      <th>Name_of_Purchaser</th>\n",
       "      <th>Name_of_Political_Party</th>\n",
       "      <th>Denominations_x</th>\n",
       "    </tr>\n",
       "  </thead>\n",
       "  <tbody>\n",
       "    <tr>\n",
       "      <th>0</th>\n",
       "      <td>14 REELS PLUS LLP</td>\n",
       "      <td>BHARAT RASHTRA SAMITHI</td>\n",
       "      <td>10000000</td>\n",
       "    </tr>\n",
       "    <tr>\n",
       "      <th>1</th>\n",
       "      <td>A B C INDIA LIMITED</td>\n",
       "      <td>BHARATIYA JANATA PARTY</td>\n",
       "      <td>4000000</td>\n",
       "    </tr>\n",
       "    <tr>\n",
       "      <th>2</th>\n",
       "      <td>AAKANKSHA BAHETY</td>\n",
       "      <td>PRESIDENT, ALL INDIA CONGRESS COMMITTEE</td>\n",
       "      <td>1000000</td>\n",
       "    </tr>\n",
       "    <tr>\n",
       "      <th>3</th>\n",
       "      <td>AALAYA CONSTRUCTIONS</td>\n",
       "      <td>BHARAT RASHTRA SAMITHI</td>\n",
       "      <td>10000000</td>\n",
       "    </tr>\n",
       "    <tr>\n",
       "      <th>4</th>\n",
       "      <td>AARISH SOLAR POWER PRIVATE LIMITED</td>\n",
       "      <td>YSR  CONGRESS PARTY  (YUVAJANA SRAMIKA RYTHU C...</td>\n",
       "      <td>20000000</td>\n",
       "    </tr>\n",
       "    <tr>\n",
       "      <th>...</th>\n",
       "      <td>...</td>\n",
       "      <td>...</td>\n",
       "      <td>...</td>\n",
       "    </tr>\n",
       "    <tr>\n",
       "      <th>1653</th>\n",
       "      <td>ZUVAN ENERGY PRIVATE LIMITED</td>\n",
       "      <td>YSR  CONGRESS PARTY  (YUVAJANA SRAMIKA RYTHU C...</td>\n",
       "      <td>10000000</td>\n",
       "    </tr>\n",
       "    <tr>\n",
       "      <th>1654</th>\n",
       "      <td>ZUVAN ENERGY PVT LTD</td>\n",
       "      <td>BHARAT RASHTRA SAMITHI</td>\n",
       "      <td>20000000</td>\n",
       "    </tr>\n",
       "    <tr>\n",
       "      <th>1655</th>\n",
       "      <td>ZYDUS HEALTHCARE LIMITED</td>\n",
       "      <td>BHARATIYA JANATA PARTY</td>\n",
       "      <td>180000000</td>\n",
       "    </tr>\n",
       "    <tr>\n",
       "      <th>1656</th>\n",
       "      <td>ZYDUS HEALTHCARE LIMITED</td>\n",
       "      <td>PRESIDENT, ALL INDIA CONGRESS COMMITTEE</td>\n",
       "      <td>30000000</td>\n",
       "    </tr>\n",
       "    <tr>\n",
       "      <th>1657</th>\n",
       "      <td>ZYDUS HEALTHCARE LIMITED</td>\n",
       "      <td>SIKKIM KRANTIKARI MORCHA</td>\n",
       "      <td>80000000</td>\n",
       "    </tr>\n",
       "  </tbody>\n",
       "</table>\n",
       "<p>1658 rows × 3 columns</p>\n",
       "</div>"
      ],
      "text/plain": [
       "                       Name_of_Purchaser  \\\n",
       "0                      14 REELS PLUS LLP   \n",
       "1                    A B C INDIA LIMITED   \n",
       "2                       AAKANKSHA BAHETY   \n",
       "3                   AALAYA CONSTRUCTIONS   \n",
       "4     AARISH SOLAR POWER PRIVATE LIMITED   \n",
       "...                                  ...   \n",
       "1653        ZUVAN ENERGY PRIVATE LIMITED   \n",
       "1654                ZUVAN ENERGY PVT LTD   \n",
       "1655            ZYDUS HEALTHCARE LIMITED   \n",
       "1656            ZYDUS HEALTHCARE LIMITED   \n",
       "1657            ZYDUS HEALTHCARE LIMITED   \n",
       "\n",
       "                                Name_of_Political_Party  Denominations_x  \n",
       "0                                BHARAT RASHTRA SAMITHI         10000000  \n",
       "1                                BHARATIYA JANATA PARTY          4000000  \n",
       "2               PRESIDENT, ALL INDIA CONGRESS COMMITTEE          1000000  \n",
       "3                                BHARAT RASHTRA SAMITHI         10000000  \n",
       "4     YSR  CONGRESS PARTY  (YUVAJANA SRAMIKA RYTHU C...         20000000  \n",
       "...                                                 ...              ...  \n",
       "1653  YSR  CONGRESS PARTY  (YUVAJANA SRAMIKA RYTHU C...         10000000  \n",
       "1654                             BHARAT RASHTRA SAMITHI         20000000  \n",
       "1655                             BHARATIYA JANATA PARTY        180000000  \n",
       "1656            PRESIDENT, ALL INDIA CONGRESS COMMITTEE         30000000  \n",
       "1657                           SIKKIM KRANTIKARI MORCHA         80000000  \n",
       "\n",
       "[1658 rows x 3 columns]"
      ]
     },
     "execution_count": 66,
     "metadata": {},
     "output_type": "execute_result"
    }
   ],
   "source": [
    "filtered_df_groups= filtered_df.groupby([\"Name_of_Purchaser\", \"Name_of_Political_Party\"])[\"Denominations_x\"].apply(sum).reset_index()\n",
    "filtered_df_groups"
   ]
  },
  {
   "cell_type": "code",
   "execution_count": 86,
   "metadata": {},
   "outputs": [],
   "source": [
    "filtered_df_groups_second = filtered_df_groups.nlargest(300, \"Denominations_x\").reset_index().drop(columns=[\"index\"])"
   ]
  },
  {
   "cell_type": "code",
   "execution_count": 87,
   "metadata": {},
   "outputs": [
    {
     "data": {
      "text/html": [
       "<div>\n",
       "<style scoped>\n",
       "    .dataframe tbody tr th:only-of-type {\n",
       "        vertical-align: middle;\n",
       "    }\n",
       "\n",
       "    .dataframe tbody tr th {\n",
       "        vertical-align: top;\n",
       "    }\n",
       "\n",
       "    .dataframe thead th {\n",
       "        text-align: right;\n",
       "    }\n",
       "</style>\n",
       "<table border=\"1\" class=\"dataframe\">\n",
       "  <thead>\n",
       "    <tr style=\"text-align: right;\">\n",
       "      <th></th>\n",
       "      <th>Name_of_Purchaser</th>\n",
       "      <th>Name_of_Political_Party</th>\n",
       "      <th>Denominations_x</th>\n",
       "    </tr>\n",
       "  </thead>\n",
       "  <tbody>\n",
       "    <tr>\n",
       "      <th>0</th>\n",
       "      <td>MEGHA ENGINEERING AND INFRASTRUCTURES LI MITED</td>\n",
       "      <td>BHARATIYA JANATA PARTY</td>\n",
       "      <td>5190000000</td>\n",
       "    </tr>\n",
       "    <tr>\n",
       "      <th>1</th>\n",
       "      <td>FUTURE GAMING AND HOTEL SERVICES PR</td>\n",
       "      <td>DRAVIDA MUNNETRA KAZHAGAM (DMK)</td>\n",
       "      <td>4530000000</td>\n",
       "    </tr>\n",
       "    <tr>\n",
       "      <th>2</th>\n",
       "      <td>FUTURE GAMING AND HOTEL SERVICES PR</td>\n",
       "      <td>ALL INDIA TRINAMOOL CONGRESS</td>\n",
       "      <td>4350000000</td>\n",
       "    </tr>\n",
       "    <tr>\n",
       "      <th>3</th>\n",
       "      <td>QWIKSUPPLYCHAINPRIVATELIMITED</td>\n",
       "      <td>BHARATIYA JANATA PARTY</td>\n",
       "      <td>3750000000</td>\n",
       "    </tr>\n",
       "    <tr>\n",
       "      <th>4</th>\n",
       "      <td>HALDIA ENERGY LIMITED</td>\n",
       "      <td>ALL INDIA TRINAMOOL CONGRESS</td>\n",
       "      <td>2810000000</td>\n",
       "    </tr>\n",
       "    <tr>\n",
       "      <th>...</th>\n",
       "      <td>...</td>\n",
       "      <td>...</td>\n",
       "      <td>...</td>\n",
       "    </tr>\n",
       "    <tr>\n",
       "      <th>295</th>\n",
       "      <td>PROCURE ADVISORY SERVICES PRIVATE LTD</td>\n",
       "      <td>BIJU JANATA DAL</td>\n",
       "      <td>80000000</td>\n",
       "    </tr>\n",
       "    <tr>\n",
       "      <th>296</th>\n",
       "      <td>UNIPRO TECHNO INFRASTRUCTURE PVT LTD</td>\n",
       "      <td>BHARATIYA JANATA PARTY</td>\n",
       "      <td>80000000</td>\n",
       "    </tr>\n",
       "    <tr>\n",
       "      <th>297</th>\n",
       "      <td>WESTWELL GASES PRIVATE LIMITED</td>\n",
       "      <td>DRAVIDA MUNNETRA KAZHAGAM (DMK)</td>\n",
       "      <td>80000000</td>\n",
       "    </tr>\n",
       "    <tr>\n",
       "      <th>298</th>\n",
       "      <td>ZYDUS HEALTHCARE LIMITED</td>\n",
       "      <td>SIKKIM KRANTIKARI MORCHA</td>\n",
       "      <td>80000000</td>\n",
       "    </tr>\n",
       "    <tr>\n",
       "      <th>299</th>\n",
       "      <td>THE PUNJAB BUSINESS SUPPLY COMPANY</td>\n",
       "      <td>BIJU JANATA DAL</td>\n",
       "      <td>78000000</td>\n",
       "    </tr>\n",
       "  </tbody>\n",
       "</table>\n",
       "<p>300 rows × 3 columns</p>\n",
       "</div>"
      ],
      "text/plain": [
       "                                  Name_of_Purchaser  \\\n",
       "0    MEGHA ENGINEERING AND INFRASTRUCTURES LI MITED   \n",
       "1               FUTURE GAMING AND HOTEL SERVICES PR   \n",
       "2               FUTURE GAMING AND HOTEL SERVICES PR   \n",
       "3                     QWIKSUPPLYCHAINPRIVATELIMITED   \n",
       "4                             HALDIA ENERGY LIMITED   \n",
       "..                                              ...   \n",
       "295           PROCURE ADVISORY SERVICES PRIVATE LTD   \n",
       "296            UNIPRO TECHNO INFRASTRUCTURE PVT LTD   \n",
       "297                  WESTWELL GASES PRIVATE LIMITED   \n",
       "298                        ZYDUS HEALTHCARE LIMITED   \n",
       "299              THE PUNJAB BUSINESS SUPPLY COMPANY   \n",
       "\n",
       "             Name_of_Political_Party  Denominations_x  \n",
       "0             BHARATIYA JANATA PARTY       5190000000  \n",
       "1    DRAVIDA MUNNETRA KAZHAGAM (DMK)       4530000000  \n",
       "2       ALL INDIA TRINAMOOL CONGRESS       4350000000  \n",
       "3             BHARATIYA JANATA PARTY       3750000000  \n",
       "4       ALL INDIA TRINAMOOL CONGRESS       2810000000  \n",
       "..                               ...              ...  \n",
       "295                  BIJU JANATA DAL         80000000  \n",
       "296           BHARATIYA JANATA PARTY         80000000  \n",
       "297  DRAVIDA MUNNETRA KAZHAGAM (DMK)         80000000  \n",
       "298         SIKKIM KRANTIKARI MORCHA         80000000  \n",
       "299                  BIJU JANATA DAL         78000000  \n",
       "\n",
       "[300 rows x 3 columns]"
      ]
     },
     "execution_count": 87,
     "metadata": {},
     "output_type": "execute_result"
    }
   ],
   "source": [
    "filtered_df_groups_second"
   ]
  },
  {
   "cell_type": "code",
   "execution_count": 90,
   "metadata": {},
   "outputs": [],
   "source": [
    "#sankeys to show connections of categories that the projects fall into. \n",
    "#This is the most elastic table/code structure we have got. We add the table with a simple structure:\n",
    "#column 0 (source) | column 1 (target) | column 3 (value/weight)\n",
    "#this took a lot of work, please conserve this code !!\n",
    "\n",
    "\n",
    "def sankey(table):\n",
    "    unique = table.iloc[:,0].unique().tolist()+table.iloc[:,1].unique().tolist()\n",
    "    #unique labels from both the source and target give us the lables for all the nodes\n",
    "    \n",
    "    #next we need to map the numbers/index from the unique list to the actual table becuase plotly sankey only takes indexes\n",
    "    #for SOURCE we map its index from the UNIQUE list\n",
    "    #for TARGET we map its index from the UNIQUE list\n",
    "    \n",
    "    source = []\n",
    "    for i in range(table.shape[0]-1):\n",
    "        x = unique.index(table.iloc[:,0].loc[i])\n",
    "        source.append(x)\n",
    "        \n",
    "    target = []\n",
    "    for j in range(table.shape[0]-1):\n",
    "        y = unique.index(table.iloc[:,1].loc[j])\n",
    "        target.append(y)\n",
    "    \n",
    "    #Value will be the weights that we give to the links this will be the third column\n",
    "    value = table.iloc[:,2].values.tolist()\n",
    "    \n",
    "    #sankey construction\n",
    "    node = dict(label = unique, pad=15, thickness=15)\n",
    "    link = dict(source = source, target = target, value = value)\n",
    "    sankey = go.Sankey(link = link, node = node)\n",
    "    \n",
    "    #plot\n",
    "    fig_s = go.Figure(sankey)\n",
    "    fig_s.update_layout(title_text=\"Sankey Diagram\", font_size=1, width=500, height=1000, margin=dict(l=0, r=0, t=0, b=0))\n",
    "    \n",
    "    return fig_s.show()\n"
   ]
  },
  {
   "cell_type": "code",
   "execution_count": 91,
   "metadata": {},
   "outputs": [
    {
     "data": {
      "application/vnd.plotly.v1+json": {
       "config": {
        "plotlyServerURL": "https://plot.ly"
       },
       "data": [
        {
         "link": {
          "source": [
           0,
           1,
           1,
           2,
           3,
           4,
           5,
           6,
           7,
           1,
           0,
           8,
           9,
           10,
           11,
           4,
           1,
           12,
           13,
           14,
           15,
           3,
           10,
           16,
           17,
           13,
           18,
           19,
           0,
           20,
           21,
           16,
           22,
           23,
           24,
           7,
           1,
           25,
           26,
           26,
           27,
           28,
           25,
           29,
           30,
           31,
           32,
           33,
           24,
           34,
           35,
           36,
           37,
           38,
           4,
           39,
           40,
           41,
           0,
           33,
           42,
           43,
           44,
           45,
           46,
           40,
           47,
           48,
           49,
           50,
           15,
           51,
           52,
           53,
           54,
           55,
           56,
           57,
           58,
           0,
           59,
           60,
           61,
           62,
           63,
           64,
           65,
           14,
           66,
           67,
           68,
           69,
           70,
           29,
           71,
           72,
           2,
           73,
           74,
           47,
           75,
           73,
           76,
           60,
           77,
           78,
           23,
           79,
           80,
           81,
           82,
           52,
           83,
           84,
           85,
           86,
           87,
           88,
           12,
           8,
           8,
           89,
           90,
           91,
           92,
           93,
           94,
           95,
           96,
           97,
           10,
           98,
           99,
           17,
           32,
           100,
           101,
           102,
           0,
           103,
           104,
           105,
           106,
           107,
           22,
           108,
           109,
           110,
           111,
           112,
           113,
           114,
           99,
           115,
           116,
           117,
           117,
           118,
           49,
           24,
           119,
           120,
           121,
           122,
           3,
           123,
           124,
           125,
           126,
           127,
           60,
           128,
           47,
           129,
           130,
           131,
           132,
           133,
           134,
           135,
           136,
           135,
           137,
           138,
           139,
           140,
           141,
           17,
           135,
           142,
           143,
           144,
           145,
           146,
           147,
           148,
           149,
           150,
           151,
           152,
           153,
           154,
           155,
           156,
           157,
           158,
           159,
           160,
           161,
           23,
           162,
           163,
           164,
           165,
           166,
           167,
           168,
           169,
           170,
           47,
           171,
           172,
           76,
           173,
           174,
           175,
           176,
           177,
           178,
           179,
           131,
           8,
           180,
           6,
           20,
           17,
           17,
           181,
           182,
           183,
           184,
           135,
           185,
           186,
           187,
           94,
           188,
           189,
           190,
           191,
           2,
           192,
           193,
           56,
           194,
           195,
           196,
           197,
           198,
           199,
           27,
           200,
           201,
           202,
           203,
           204,
           204,
           205,
           206,
           207,
           208,
           209,
           10,
           210,
           210,
           211,
           212,
           213,
           214,
           215,
           216,
           217,
           218,
           219,
           220,
           221,
           222,
           223,
           224,
           162,
           225,
           226,
           1,
           227,
           228,
           229,
           230,
           114,
           104
          ],
          "target": [
           232,
           233,
           234,
           232,
           234,
           232,
           232,
           232,
           235,
           236,
           237,
           232,
           232,
           238,
           232,
           238,
           232,
           235,
           237,
           234,
           239,
           232,
           232,
           232,
           238,
           238,
           234,
           232,
           233,
           232,
           232,
           235,
           232,
           238,
           237,
           232,
           238,
           233,
           232,
           235,
           232,
           232,
           234,
           237,
           235,
           232,
           235,
           234,
           234,
           232,
           232,
           234,
           232,
           240,
           235,
           238,
           234,
           232,
           236,
           241,
           232,
           232,
           232,
           232,
           234,
           232,
           237,
           232,
           232,
           232,
           232,
           232,
           232,
           237,
           232,
           235,
           238,
           238,
           232,
           240,
           235,
           234,
           232,
           235,
           232,
           232,
           232,
           232,
           232,
           237,
           232,
           232,
           232,
           233,
           232,
           232,
           239,
           232,
           234,
           232,
           232,
           236,
           232,
           238,
           237,
           238,
           234,
           238,
           232,
           238,
           232,
           237,
           232,
           237,
           237,
           237,
           232,
           232,
           238,
           234,
           238,
           237,
           232,
           232,
           232,
           237,
           232,
           237,
           232,
           237,
           240,
           237,
           234,
           234,
           234,
           232,
           237,
           232,
           238,
           232,
           232,
           236,
           236,
           232,
           238,
           232,
           232,
           234,
           232,
           237,
           232,
           234,
           238,
           232,
           232,
           237,
           238,
           237,
           237,
           238,
           237,
           232,
           232,
           232,
           238,
           232,
           232,
           237,
           232,
           232,
           232,
           232,
           238,
           232,
           238,
           232,
           232,
           234,
           232,
           240,
           235,
           232,
           238,
           237,
           232,
           237,
           237,
           232,
           238,
           232,
           232,
           232,
           238,
           232,
           238,
           234,
           232,
           232,
           232,
           232,
           232,
           232,
           232,
           232,
           232,
           232,
           232,
           232,
           232,
           242,
           232,
           232,
           232,
           232,
           240,
           232,
           232,
           232,
           232,
           240,
           232,
           232,
           235,
           232,
           232,
           232,
           238,
           238,
           232,
           232,
           235,
           243,
           237,
           238,
           244,
           237,
           235,
           232,
           232,
           245,
           237,
           237,
           232,
           235,
           232,
           234,
           232,
           232,
           237,
           232,
           246,
           232,
           232,
           245,
           232,
           232,
           232,
           237,
           235,
           236,
           238,
           237,
           237,
           232,
           232,
           232,
           235,
           232,
           232,
           235,
           232,
           232,
           247,
           232,
           238,
           232,
           241,
           232,
           232,
           232,
           237,
           232,
           232,
           232,
           238,
           234,
           238,
           232,
           237,
           242,
           238,
           232,
           248,
           232,
           235,
           235,
           232,
           233,
           248
          ],
          "value": [
           5190000000,
           4530000000,
           4350000000,
           3750000000,
           2810000000,
           2266500000,
           1830000000,
           1755000000,
           1745000000,
           1540000000,
           1500000000,
           1445000000,
           1300000000,
           1100000000,
           1050000000,
           1040000000,
           1000000000,
           1000000000,
           940000000,
           900000000,
           850000000,
           810000000,
           800000000,
           750000000,
           693500000,
           640000000,
           620000000,
           600000000,
           600000000,
           600000000,
           600000000,
           600000000,
           580000000,
           530000000,
           500000000,
           500000000,
           500000000,
           500000000,
           500000000,
           500000000,
           500000000,
           500000000,
           450000000,
           450000000,
           450000000,
           450000000,
           450000000,
           420000000,
           400000000,
           400000000,
           400000000,
           400000000,
           400000000,
           400000000,
           400000000,
           390000000,
           380000000,
           370000000,
           370000000,
           350000000,
           350000000,
           350000000,
           350000000,
           350000000,
           330000000,
           330000000,
           320000000,
           320000000,
           315000000,
           315000000,
           300000000,
           300000000,
           300000000,
           300000000,
           300000000,
           300000000,
           300000000,
           300000000,
           290000000,
           280000000,
           275000000,
           274000000,
           270000000,
           270000000,
           255000000,
           255000000,
           250000000,
           250000000,
           250000000,
           250000000,
           250000000,
           250000000,
           250000000,
           250000000,
           250000000,
           250000000,
           250000000,
           250000000,
           240000000,
           240000000,
           240000000,
           240000000,
           230000000,
           222500000,
           220000000,
           220000000,
           215000000,
           210000000,
           200000000,
           200000000,
           200000000,
           200000000,
           200000000,
           200000000,
           200000000,
           200000000,
           200000000,
           200000000,
           200000000,
           200000000,
           200000000,
           200000000,
           200000000,
           200000000,
           200000000,
           200000000,
           200000000,
           200000000,
           200000000,
           200000000,
           200000000,
           195000000,
           193000000,
           185000000,
           185000000,
           180000000,
           180000000,
           180000000,
           180000000,
           180000000,
           180000000,
           170000000,
           170000000,
           170000000,
           170000000,
           170000000,
           165000000,
           162000000,
           160000000,
           160000000,
           160000000,
           154000000,
           152000000,
           150000000,
           150000000,
           150000000,
           150000000,
           150000000,
           150000000,
           150000000,
           150000000,
           150000000,
           150000000,
           150000000,
           150000000,
           150000000,
           150000000,
           150000000,
           150000000,
           150000000,
           144200000,
           144000000,
           140000000,
           140000000,
           140000000,
           140000000,
           140000000,
           140000000,
           140000000,
           140000000,
           140000000,
           130000000,
           130000000,
           130000000,
           130000000,
           125000000,
           125000000,
           125000000,
           122500000,
           120000000,
           120000000,
           120000000,
           115000000,
           115000000,
           113210000,
           112000000,
           110000000,
           110000000,
           110000000,
           105000000,
           104000000,
           102000000,
           100000000,
           100000000,
           100000000,
           100000000,
           100000000,
           100000000,
           100000000,
           100000000,
           100000000,
           100000000,
           100000000,
           100000000,
           100000000,
           100000000,
           100000000,
           100000000,
           100000000,
           100000000,
           100000000,
           100000000,
           100000000,
           100000000,
           100000000,
           100000000,
           100000000,
           100000000,
           100000000,
           100000000,
           100000000,
           100000000,
           100000000,
           100000000,
           100000000,
           100000000,
           100000000,
           100000000,
           100000000,
           100000000,
           100000000,
           100000000,
           100000000,
           100000000,
           100000000,
           100000000,
           100000000,
           100000000,
           100000000,
           100000000,
           100000000,
           100000000,
           100000000,
           100000000,
           100000000,
           100000000,
           100000000,
           100000000,
           100000000,
           100000000,
           100000000,
           100000000,
           100000000,
           100000000,
           100000000,
           100000000,
           100000000,
           100000000,
           100000000,
           100000000,
           100000000,
           100000000,
           100000000,
           100000000,
           100000000,
           97500000,
           90000000,
           90000000,
           90000000,
           90000000,
           90000000,
           90000000,
           90000000,
           90000000,
           85000000,
           85000000,
           83300000,
           82000000,
           80000000,
           80000000,
           80000000,
           80000000,
           80000000,
           80000000,
           80000000,
           80000000,
           80000000,
           80000000,
           80000000,
           78000000
          ]
         },
         "node": {
          "label": [
           "MEGHA ENGINEERING AND INFRASTRUCTURES LI MITED",
           "FUTURE GAMING AND HOTEL SERVICES PR",
           "QWIKSUPPLYCHAINPRIVATELIMITED",
           "HALDIA ENERGY LIMITED",
           "VEDANTA LIMITED",
           "BHARTI AIRTEL LIMITED",
           "MADANLAL LTD.",
           "ESSEL MINING AND INDS LTD",
           "KEVENTER FOODPARK INFRA LIMITED",
           "DLF COMMERCIAL DEVELOPERS LIMITED",
           "WESTERN UP POWER TRANSMISSION COMPANY LI MITED",
           "BIRLACARBONINDIAPRIVATELIMITED",
           "JINDAL STEEL AND POWER LIMITED",
           "YASHODA SUPER SPECIALITY HOSPITAL",
           "DHARIWAL INFRASTRUCTURE LIMITED",
           "B G SHIRKE CONSTRUCTION TECHNOLOGY PVT L TD",
           "UTKAL ALUMINA INTERNATIONAL LIMITED",
           "MKJ ENTERPRISES LIMITED",
           "FUTURE GAMING AND HOTEL SERVICES PVT LTD",
           "INFINA FINANCE PRIVATE LIMITED",
           "MEGHA ENGINEERING AND INFRASTRUCTURES LTD",
           "NCC LIMITED",
           "TORRENT  POWER  LIMITED",
           "AVEES TRADING FINANCE PVT LTD",
           "CHENNAI GREEN WOODS PRIVATE LIMITED",
           "FUTURE GAMING AND HOTEL SERVICES PRIVATE LIMITED",
           "RUNGTA SONS P LTD",
           "SRI SIDDHARTH INFRATECH AND SERVICES I P",
           "UNITED PHOSPHORUS INDIA LLP",
           "MEGHA ENGINEERING & INFRASTRUCTURES LIMITED",
           "MS S N MOHANTY",
           "NAVAYUGA  ENGINEERING COMPANY LIMITED",
           "RASHMI CEMENT LTD",
           "IFB AGRO INDUSTRIES LIMITED",
           "LAXMI CIVIL ENGINEERING SERVICES PR",
           "MODERN ROAD MAKERS PVT. LTD.",
           "PCBL LIMITED",
           "PHL FINIVEST PVT LTD",
           "SHIRDI SAI ELECTRICALS LTD",
           "SASMAL INFRASTRUCTURE PRIVATE LIMITED",
           "PRARAMBH SECURITIES PVT LTDPROPRIET",
           "BHARTI TELEMEDIA LIMITED",
           "LAKSHMI NIWAS MITTAL",
           "NEXG DEVICES PVT LTD",
           "SAFAL GOYAL REALTY LLP",
           "SWAL CORPORATION LIMITED",
           "CRESCENT POWER LTD",
           "DR.REDDY'S LABORATORIES LTD",
           "TORRENT PHARMACEUTICALS LTD",
           "AUROBINDO PHARMA LIMITED",
           "LCCPROJECTSPRIVATELIMITED",
           "CIPLA LIMITED",
           "DIVI S LABORATORIES LIMITED",
           "HETERO DRUGS LIMITED",
           "HONEYWELL PROPERTIES PVT LTD",
           "JINDAL STAINLESS LTD",
           "RITHWIK PROJECTS  PRIVATE LIMITED",
           "SEPC POWER PVT LTD OPERATION RETEN",
           "TORRENT PHARMACEUTICALS LIMITED",
           "PENGUIN TRADING & AGENCIES LIMITED",
           "MKJ ENTERPRISES LTD",
           "JINDAL SAW LIMITED",
           "RASHMI METALIKS LTD",
           "GENUS POWER INFRASTRUCTURES LIMITED",
           "KALPATARU PROJECTS INTERNATIONAL LIMITED",
           "AUTHUM INVESTMENT AND INFRASTRUCTURE LTD",
           "DLF LUXURY HOMES LIMITED",
           "IRB MP EXPRESSWAY PRIVATE LIMITED",
           "K R RAJA  JT",
           "LAXMIDAS VALLABHDAS   ASMITA MERCHA",
           "MAHINDRA & MAHINDRA LTD",
           "PIRAMAL ENTERPRISES LIMITED",
           "PRATHMESH CONSTRUCTION",
           "THE RAMCO CEMENTS LIMITED",
           "AVEES TRADING & FINANCE PVT LTD",
           "MANKIND PHARMA LIMITED",
           "GRASIM INDUSTRIES LTD",
           "L7 HITECH PRIVATE LIMITED",
           "SIDDHI TRADING",
           "VEDANTA LTD",
           "BAJAJ FINANCE LTD",
           "BKC PROPERTIES PVT LTD",
           "CHANDER COMMERCIALS PVT LTD",
           "HERO MOTOCORP LIMITED",
           "HES INFRA PVT LTD",
           "HETERO LABS LIMITED",
           "HONOUR LAB LTD",
           "INTAS PHARMACEUTICALS LIMITED",
           "INTERGLOBE REAL ESTATE VENTURES PVT LTD",
           "KOYA AND COMPANY CONSTRUCTION LTD",
           "LUCINA LAND DEVELOPMENT LIMITED",
           "MAATHA PROJECTS LLP",
           "MARUTI SUZUKI INDIA LTD",
           "MSN PHARMACHEM PVT LTD",
           "PHILLIPS CARBON BLACK LIMITED",
           "RAJAPUSHPA PROPERTIES PVT LTD",
           "SUN PHARMA LABORATORIES LIMTED",
           "TELLAPUR TECHNOCITY PRIVATE LIMI",
           "NSL SEZ(HYDERABAD) PRIVATE LIMITED",
           "TRANSWAYS EXIM PRIVATE LIMITED",
           "FINOLEX CABLES LTD",
           "K RAHEJA CORP PVT LTD",
           "LUPIN LIMITED",
           "TORRENT POWER LTD",
           "ZYDUS HEALTHCARE LIMITED",
           "OSTRO JAISALMER PRIVATE LIMITED",
           "OSTRO MADHYA WIND PRIVATE LIMITED",
           "S D CORPORATION PVT LTD",
           "VARDHMAN TEXTILES LTD",
           "RAY CONSTRUCTIONS LTD",
           "RAHUL BHATIA",
           "ISHAN TECHNICAL PLANT SERVICES PVT LTD",
           "KITEX GARMENTS LIMITED",
           "TVS MOBILITY PRIVATE LIMITED",
           "WESTWELL GASES PRIVATE LIMITED",
           "AKSENTT TECH SERVICES LIMITED (UNITY TEL ECOM INFRASTRUCTURE)",
           "ALKEM LABORATORIES LIMITED",
           "APARNA FARMS AND ESTATES LLP",
           "AQUA SPACE DEVELOPERS PRIVATE LIMIT",
           "DHEERAJ MEDICALS",
           "DINESHCHANDRA R AGRAWAL INFRACON PVT LTD",
           "DLF GARDEN CITY INDORE PVT LTD",
           "EUGIA PHARMA SPECIALITIES LIMITED",
           "HH IRON AND STEEL PRIVATE LIMITED",
           "INFOTELBUSINESSSOLUTIONSLTDBR",
           "MY HOME INFRASTRUCTURES  PRIVATE LI",
           "TERACON BUILDTECH LLP",
           "WPIL LIMITED",
           "BHARTI AIRTEL LIMITEDAIRTEL CURRE NT AC-GCO",
           "INDER                                      THAKURDAS JAISINGHANI",
           "JK LAKSHMI CEMENT LIMITED",
           "KAYPEE ENTERPRISES",
           "M/SKJS AHLUWALIA",
           "MISRILALL MINES PVT LTD",
           "MOHAN STEEL CORPORATION",
           "NATCO PHARMA LTD",
           "SHRI JAGANNATH STEELS & POWER LTD",
           "NIRMA LIMITED",
           "SANDHYA  CONSTRUCTIONS & ESTATES PRIVATE  LIMITED",
           "WELSPUN CORP LIMITED",
           "HAZELO LAB PRIVATE LTD",
           "HINDYS LAB PRIVATE LTD",
           "SATEC ENVIR ENGINEERING (I) PVT LTD",
           "TALENTO TECHNICAL PLANT SERVICES PVT LTD",
           "ULTRA TECH CEMENT LIMITED",
           "KAMNA CREDITS AND PROMOTORS PVT LTD",
           "SUN PHARMA LABORATORIES LTD",
           "BENGAL COKE COMPANY LIMITED",
           "HIMALAYAN ENDEAVOUR PVT LTD",
           "INTERGLOBE AIR TRANSPORT LIMITED",
           "KEC INTERNATIONAL LIMITED",
           "REAL TECHNICAL SOLUTIONS PVT LTD",
           "JAI BHARAT TECHNICAL SERVICES PVT LTD",
           "JWIL INFRA LTD. (FORM. JITF WATER",
           "ALEMBICPHARMACEUTICALSLINCLRTGS",
           "ABNLINVESTMENTLIMITED",
           "ACE URBAN DEVELOPERS PVT LTD",
           "APCO INFRATECH PRIVATE LIMITED",
           "APCO INFRATECH PRIVATE LTD",
           "APCO INFRATECH PVT LTD  FORMERLY AP",
           "APL HEALTHCARE LIMITED",
           "ATHENA INFRASTRUCTURE LIMITED",
           "BAJAJ AUTO LTD",
           "BAJAJ HOLDINGS & INVESTMENT LIMITED",
           "BALU IRON AND STEEL COMPANY",
           "BEST AGROLIFE LIMITED",
           "BHARAT BIOTECH INTERNATIONAL LIMITED",
           "BIOXGREEN TECHNOLOGY PRIVATE LIMITE",
           "BRIGHT STAR INVESTMENTS PVT.LTD",
           "CHANDRAJYOTI ESTATE DEVELOPERS PVT.",
           "CYIENT LIMITED",
           "ENAM HOLDINGS PRIVATE LIMITED",
           "ENVIRO CONTROL PRIVATE LIMITED FORM",
           "GUJARAT FLUORO CHEMICALS LIMITED",
           "HARMESH RAHUL JOSHI",
           "INFOTELTECHNOLOGIESPRIVATELIMITE",
           "INORBIT MALLS  INDIA  PRIVATE LIMIT",
           "INORBIT MALLS INDIA PRIVATE LIMITED",
           "IPCA LABORATORIES LIMITED",
           "J.K.CEMENT LTD.",
           "KNR CONSTRUCTIONS LTD",
           "MSN LABORATORIES PVT LTD",
           "MYTRAH ENERGY INDIA PRIVATE LIMITED",
           "NARA CONSTRUCTIONS",
           "NATCO PHARMA LIMITED",
           "NAVAYUGA ENGINEERING CO LTD",
           "ORISSA METALIKS PVT LIMITED",
           "PEGASUS PROPERTIES PVT LTD",
           "PIRAMAL CAPITAL AND HOUSING FINANCE LTD",
           "PIRAMAL ENTERPRISES LTD",
           "PPR M SAND LLP",
           "PRL DEVELOPERS PRIVATE LIMITED",
           "RAHUL JAGANNATH JOSHI",
           "RAJU KUMAR SHARMA",
           "S.S.EARTHMOVERS AND LOGISTICS",
           "SAURABH GUPTA",
           "SELENE CONSTRUCTIONS LIMITED",
           "SELMAR LAB PRIVATE LTD",
           "SHRI SHAMLAJI SALES PRIVATE LIMITED",
           "SNEHA KINETIC POWER PROJECTS PVT LTD",
           "SRICHAITANYA STUDENTS FACILITY MANAGEMENT PVT LTD",
           "SUPER CYBERTECH PARK PRIVATE LIMITE",
           "SYLVANUS PROPERTIES LIMITED",
           "TVS MOTOR COMPANY LIMITED",
           "ULTRATECHCEMENTSLTD",
           "UPL LIMITED",
           "USV PRIVATE LTD ( FORMERLY USV LTD)",
           "UTKAL ALUMINA INTERNATIONAL LTD",
           "WELSPUN ENTERPRISES LTD",
           "WELSPUN INDIA LIMITED",
           "WONDER CEMENT LTD",
           "GLENMARK PHARMACEUTICALS LTD",
           "ASKUS LOGISTICS PRIVATE LIMITED",
           "HARDESH ORES PVT LTD",
           "INDUSTRIAL TECHNO MAN POWER SUPPLY AND SERVICES PVT LTD",
           "JINDAL HOUSE",
           "KITEX CHILDRENSWEAR LTD",
           "MICHIGAN ENGINEERS PVT LTD",
           "VACMETINDIALIMITED",
           "WELSPUN CORP LTD",
           "ABHINANDANSTOCKBROKINGPVTLTD",
           "RIPLEY & CO STEVDORING & HANDLING PVT LT D",
           "SRI KUMARASWAMY MINERAL EXPORTS PR",
           "ANITA HEMANT SHAH",
           "AQ SQUARE REALTORS PRIVATE LIMITED",
           "BHARTI INFRATEL LIMITED",
           "COMFORT TRIMS PRIVATE LIMITED DIVIS",
           "GREENKO ENERGY PROJECTS PRIVATE LTD",
           "ORRISA METALIKS PVT LTD",
           "PROCURE ADVISORY SERVICES PRIVATE LTD",
           "UNIPRO TECHNO INFRASTRUCTURE PVT LTD",
           "THE PUNJAB BUSINESS SUPPLY COMPANY",
           "BHARATIYA JANATA PARTY",
           "DRAVIDA MUNNETRA KAZHAGAM (DMK)",
           "ALL INDIA TRINAMOOL CONGRESS",
           "BIJU JANATA DAL",
           "YSR  CONGRESS PARTY  (YUVAJANA SRAMIKA RYTHU CONGRESS PARTY)",
           "BHARAT RASHTRA SAMITHI",
           "PRESIDENT, ALL INDIA CONGRESS COMMITTEE",
           "SHIVSENA",
           "TELUGU DESAM PARTY",
           "RASHTRIYA JANTA DAL",
           "AAM AADMI PARTY",
           "ADYAKSHA SAMAJVADI PARTY",
           "BIHAR PRADESH JANTA DAL(UNITED)",
           "JANATA DAL ( SECULAR )",
           "NATIONALIST CONGRESS PARTY MAHARASHTRA PRADESH",
           "JANASENA PARTY",
           "SIKKIM KRANTIKARI MORCHA"
          ],
          "pad": 15,
          "thickness": 15
         },
         "type": "sankey"
        }
       ],
       "layout": {
        "font": {
         "size": 1
        },
        "height": 1000,
        "margin": {
         "b": 0,
         "l": 0,
         "r": 0,
         "t": 0
        },
        "template": {
         "data": {
          "bar": [
           {
            "error_x": {
             "color": "#2a3f5f"
            },
            "error_y": {
             "color": "#2a3f5f"
            },
            "marker": {
             "line": {
              "color": "#E5ECF6",
              "width": 0.5
             },
             "pattern": {
              "fillmode": "overlay",
              "size": 10,
              "solidity": 0.2
             }
            },
            "type": "bar"
           }
          ],
          "barpolar": [
           {
            "marker": {
             "line": {
              "color": "#E5ECF6",
              "width": 0.5
             },
             "pattern": {
              "fillmode": "overlay",
              "size": 10,
              "solidity": 0.2
             }
            },
            "type": "barpolar"
           }
          ],
          "carpet": [
           {
            "aaxis": {
             "endlinecolor": "#2a3f5f",
             "gridcolor": "white",
             "linecolor": "white",
             "minorgridcolor": "white",
             "startlinecolor": "#2a3f5f"
            },
            "baxis": {
             "endlinecolor": "#2a3f5f",
             "gridcolor": "white",
             "linecolor": "white",
             "minorgridcolor": "white",
             "startlinecolor": "#2a3f5f"
            },
            "type": "carpet"
           }
          ],
          "choropleth": [
           {
            "colorbar": {
             "outlinewidth": 0,
             "ticks": ""
            },
            "type": "choropleth"
           }
          ],
          "contour": [
           {
            "colorbar": {
             "outlinewidth": 0,
             "ticks": ""
            },
            "colorscale": [
             [
              0,
              "#0d0887"
             ],
             [
              0.1111111111111111,
              "#46039f"
             ],
             [
              0.2222222222222222,
              "#7201a8"
             ],
             [
              0.3333333333333333,
              "#9c179e"
             ],
             [
              0.4444444444444444,
              "#bd3786"
             ],
             [
              0.5555555555555556,
              "#d8576b"
             ],
             [
              0.6666666666666666,
              "#ed7953"
             ],
             [
              0.7777777777777778,
              "#fb9f3a"
             ],
             [
              0.8888888888888888,
              "#fdca26"
             ],
             [
              1,
              "#f0f921"
             ]
            ],
            "type": "contour"
           }
          ],
          "contourcarpet": [
           {
            "colorbar": {
             "outlinewidth": 0,
             "ticks": ""
            },
            "type": "contourcarpet"
           }
          ],
          "heatmap": [
           {
            "colorbar": {
             "outlinewidth": 0,
             "ticks": ""
            },
            "colorscale": [
             [
              0,
              "#0d0887"
             ],
             [
              0.1111111111111111,
              "#46039f"
             ],
             [
              0.2222222222222222,
              "#7201a8"
             ],
             [
              0.3333333333333333,
              "#9c179e"
             ],
             [
              0.4444444444444444,
              "#bd3786"
             ],
             [
              0.5555555555555556,
              "#d8576b"
             ],
             [
              0.6666666666666666,
              "#ed7953"
             ],
             [
              0.7777777777777778,
              "#fb9f3a"
             ],
             [
              0.8888888888888888,
              "#fdca26"
             ],
             [
              1,
              "#f0f921"
             ]
            ],
            "type": "heatmap"
           }
          ],
          "heatmapgl": [
           {
            "colorbar": {
             "outlinewidth": 0,
             "ticks": ""
            },
            "colorscale": [
             [
              0,
              "#0d0887"
             ],
             [
              0.1111111111111111,
              "#46039f"
             ],
             [
              0.2222222222222222,
              "#7201a8"
             ],
             [
              0.3333333333333333,
              "#9c179e"
             ],
             [
              0.4444444444444444,
              "#bd3786"
             ],
             [
              0.5555555555555556,
              "#d8576b"
             ],
             [
              0.6666666666666666,
              "#ed7953"
             ],
             [
              0.7777777777777778,
              "#fb9f3a"
             ],
             [
              0.8888888888888888,
              "#fdca26"
             ],
             [
              1,
              "#f0f921"
             ]
            ],
            "type": "heatmapgl"
           }
          ],
          "histogram": [
           {
            "marker": {
             "pattern": {
              "fillmode": "overlay",
              "size": 10,
              "solidity": 0.2
             }
            },
            "type": "histogram"
           }
          ],
          "histogram2d": [
           {
            "colorbar": {
             "outlinewidth": 0,
             "ticks": ""
            },
            "colorscale": [
             [
              0,
              "#0d0887"
             ],
             [
              0.1111111111111111,
              "#46039f"
             ],
             [
              0.2222222222222222,
              "#7201a8"
             ],
             [
              0.3333333333333333,
              "#9c179e"
             ],
             [
              0.4444444444444444,
              "#bd3786"
             ],
             [
              0.5555555555555556,
              "#d8576b"
             ],
             [
              0.6666666666666666,
              "#ed7953"
             ],
             [
              0.7777777777777778,
              "#fb9f3a"
             ],
             [
              0.8888888888888888,
              "#fdca26"
             ],
             [
              1,
              "#f0f921"
             ]
            ],
            "type": "histogram2d"
           }
          ],
          "histogram2dcontour": [
           {
            "colorbar": {
             "outlinewidth": 0,
             "ticks": ""
            },
            "colorscale": [
             [
              0,
              "#0d0887"
             ],
             [
              0.1111111111111111,
              "#46039f"
             ],
             [
              0.2222222222222222,
              "#7201a8"
             ],
             [
              0.3333333333333333,
              "#9c179e"
             ],
             [
              0.4444444444444444,
              "#bd3786"
             ],
             [
              0.5555555555555556,
              "#d8576b"
             ],
             [
              0.6666666666666666,
              "#ed7953"
             ],
             [
              0.7777777777777778,
              "#fb9f3a"
             ],
             [
              0.8888888888888888,
              "#fdca26"
             ],
             [
              1,
              "#f0f921"
             ]
            ],
            "type": "histogram2dcontour"
           }
          ],
          "mesh3d": [
           {
            "colorbar": {
             "outlinewidth": 0,
             "ticks": ""
            },
            "type": "mesh3d"
           }
          ],
          "parcoords": [
           {
            "line": {
             "colorbar": {
              "outlinewidth": 0,
              "ticks": ""
             }
            },
            "type": "parcoords"
           }
          ],
          "pie": [
           {
            "automargin": true,
            "type": "pie"
           }
          ],
          "scatter": [
           {
            "fillpattern": {
             "fillmode": "overlay",
             "size": 10,
             "solidity": 0.2
            },
            "type": "scatter"
           }
          ],
          "scatter3d": [
           {
            "line": {
             "colorbar": {
              "outlinewidth": 0,
              "ticks": ""
             }
            },
            "marker": {
             "colorbar": {
              "outlinewidth": 0,
              "ticks": ""
             }
            },
            "type": "scatter3d"
           }
          ],
          "scattercarpet": [
           {
            "marker": {
             "colorbar": {
              "outlinewidth": 0,
              "ticks": ""
             }
            },
            "type": "scattercarpet"
           }
          ],
          "scattergeo": [
           {
            "marker": {
             "colorbar": {
              "outlinewidth": 0,
              "ticks": ""
             }
            },
            "type": "scattergeo"
           }
          ],
          "scattergl": [
           {
            "marker": {
             "colorbar": {
              "outlinewidth": 0,
              "ticks": ""
             }
            },
            "type": "scattergl"
           }
          ],
          "scattermapbox": [
           {
            "marker": {
             "colorbar": {
              "outlinewidth": 0,
              "ticks": ""
             }
            },
            "type": "scattermapbox"
           }
          ],
          "scatterpolar": [
           {
            "marker": {
             "colorbar": {
              "outlinewidth": 0,
              "ticks": ""
             }
            },
            "type": "scatterpolar"
           }
          ],
          "scatterpolargl": [
           {
            "marker": {
             "colorbar": {
              "outlinewidth": 0,
              "ticks": ""
             }
            },
            "type": "scatterpolargl"
           }
          ],
          "scatterternary": [
           {
            "marker": {
             "colorbar": {
              "outlinewidth": 0,
              "ticks": ""
             }
            },
            "type": "scatterternary"
           }
          ],
          "surface": [
           {
            "colorbar": {
             "outlinewidth": 0,
             "ticks": ""
            },
            "colorscale": [
             [
              0,
              "#0d0887"
             ],
             [
              0.1111111111111111,
              "#46039f"
             ],
             [
              0.2222222222222222,
              "#7201a8"
             ],
             [
              0.3333333333333333,
              "#9c179e"
             ],
             [
              0.4444444444444444,
              "#bd3786"
             ],
             [
              0.5555555555555556,
              "#d8576b"
             ],
             [
              0.6666666666666666,
              "#ed7953"
             ],
             [
              0.7777777777777778,
              "#fb9f3a"
             ],
             [
              0.8888888888888888,
              "#fdca26"
             ],
             [
              1,
              "#f0f921"
             ]
            ],
            "type": "surface"
           }
          ],
          "table": [
           {
            "cells": {
             "fill": {
              "color": "#EBF0F8"
             },
             "line": {
              "color": "white"
             }
            },
            "header": {
             "fill": {
              "color": "#C8D4E3"
             },
             "line": {
              "color": "white"
             }
            },
            "type": "table"
           }
          ]
         },
         "layout": {
          "annotationdefaults": {
           "arrowcolor": "#2a3f5f",
           "arrowhead": 0,
           "arrowwidth": 1
          },
          "autotypenumbers": "strict",
          "coloraxis": {
           "colorbar": {
            "outlinewidth": 0,
            "ticks": ""
           }
          },
          "colorscale": {
           "diverging": [
            [
             0,
             "#8e0152"
            ],
            [
             0.1,
             "#c51b7d"
            ],
            [
             0.2,
             "#de77ae"
            ],
            [
             0.3,
             "#f1b6da"
            ],
            [
             0.4,
             "#fde0ef"
            ],
            [
             0.5,
             "#f7f7f7"
            ],
            [
             0.6,
             "#e6f5d0"
            ],
            [
             0.7,
             "#b8e186"
            ],
            [
             0.8,
             "#7fbc41"
            ],
            [
             0.9,
             "#4d9221"
            ],
            [
             1,
             "#276419"
            ]
           ],
           "sequential": [
            [
             0,
             "#0d0887"
            ],
            [
             0.1111111111111111,
             "#46039f"
            ],
            [
             0.2222222222222222,
             "#7201a8"
            ],
            [
             0.3333333333333333,
             "#9c179e"
            ],
            [
             0.4444444444444444,
             "#bd3786"
            ],
            [
             0.5555555555555556,
             "#d8576b"
            ],
            [
             0.6666666666666666,
             "#ed7953"
            ],
            [
             0.7777777777777778,
             "#fb9f3a"
            ],
            [
             0.8888888888888888,
             "#fdca26"
            ],
            [
             1,
             "#f0f921"
            ]
           ],
           "sequentialminus": [
            [
             0,
             "#0d0887"
            ],
            [
             0.1111111111111111,
             "#46039f"
            ],
            [
             0.2222222222222222,
             "#7201a8"
            ],
            [
             0.3333333333333333,
             "#9c179e"
            ],
            [
             0.4444444444444444,
             "#bd3786"
            ],
            [
             0.5555555555555556,
             "#d8576b"
            ],
            [
             0.6666666666666666,
             "#ed7953"
            ],
            [
             0.7777777777777778,
             "#fb9f3a"
            ],
            [
             0.8888888888888888,
             "#fdca26"
            ],
            [
             1,
             "#f0f921"
            ]
           ]
          },
          "colorway": [
           "#636efa",
           "#EF553B",
           "#00cc96",
           "#ab63fa",
           "#FFA15A",
           "#19d3f3",
           "#FF6692",
           "#B6E880",
           "#FF97FF",
           "#FECB52"
          ],
          "font": {
           "color": "#2a3f5f"
          },
          "geo": {
           "bgcolor": "white",
           "lakecolor": "white",
           "landcolor": "#E5ECF6",
           "showlakes": true,
           "showland": true,
           "subunitcolor": "white"
          },
          "hoverlabel": {
           "align": "left"
          },
          "hovermode": "closest",
          "mapbox": {
           "style": "light"
          },
          "paper_bgcolor": "white",
          "plot_bgcolor": "#E5ECF6",
          "polar": {
           "angularaxis": {
            "gridcolor": "white",
            "linecolor": "white",
            "ticks": ""
           },
           "bgcolor": "#E5ECF6",
           "radialaxis": {
            "gridcolor": "white",
            "linecolor": "white",
            "ticks": ""
           }
          },
          "scene": {
           "xaxis": {
            "backgroundcolor": "#E5ECF6",
            "gridcolor": "white",
            "gridwidth": 2,
            "linecolor": "white",
            "showbackground": true,
            "ticks": "",
            "zerolinecolor": "white"
           },
           "yaxis": {
            "backgroundcolor": "#E5ECF6",
            "gridcolor": "white",
            "gridwidth": 2,
            "linecolor": "white",
            "showbackground": true,
            "ticks": "",
            "zerolinecolor": "white"
           },
           "zaxis": {
            "backgroundcolor": "#E5ECF6",
            "gridcolor": "white",
            "gridwidth": 2,
            "linecolor": "white",
            "showbackground": true,
            "ticks": "",
            "zerolinecolor": "white"
           }
          },
          "shapedefaults": {
           "line": {
            "color": "#2a3f5f"
           }
          },
          "ternary": {
           "aaxis": {
            "gridcolor": "white",
            "linecolor": "white",
            "ticks": ""
           },
           "baxis": {
            "gridcolor": "white",
            "linecolor": "white",
            "ticks": ""
           },
           "bgcolor": "#E5ECF6",
           "caxis": {
            "gridcolor": "white",
            "linecolor": "white",
            "ticks": ""
           }
          },
          "title": {
           "x": 0.05
          },
          "xaxis": {
           "automargin": true,
           "gridcolor": "white",
           "linecolor": "white",
           "ticks": "",
           "title": {
            "standoff": 15
           },
           "zerolinecolor": "white",
           "zerolinewidth": 2
          },
          "yaxis": {
           "automargin": true,
           "gridcolor": "white",
           "linecolor": "white",
           "ticks": "",
           "title": {
            "standoff": 15
           },
           "zerolinecolor": "white",
           "zerolinewidth": 2
          }
         }
        },
        "title": {
         "text": "Sankey Diagram"
        },
        "width": 500
       }
      }
     },
     "metadata": {},
     "output_type": "display_data"
    }
   ],
   "source": [
    "sankey(filtered_df_groups_second)"
   ]
  },
  {
   "cell_type": "code",
   "execution_count": null,
   "metadata": {},
   "outputs": [],
   "source": []
  }
 ],
 "metadata": {
  "kernelspec": {
   "display_name": "base",
   "language": "python",
   "name": "python3"
  },
  "language_info": {
   "codemirror_mode": {
    "name": "ipython",
    "version": 3
   },
   "file_extension": ".py",
   "mimetype": "text/x-python",
   "name": "python",
   "nbconvert_exporter": "python",
   "pygments_lexer": "ipython3",
   "version": "3.9.13"
  }
 },
 "nbformat": 4,
 "nbformat_minor": 2
}
