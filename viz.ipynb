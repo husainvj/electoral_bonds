{
 "cells": [
  {
   "cell_type": "code",
   "execution_count": 217,
   "metadata": {},
   "outputs": [],
   "source": [
    "import plotly.graph_objects as go\n",
    "import pandas as pd\n",
    "import numpy as np\n",
    "import plotly.express as px\n",
    "import matplotlib.pyplot as plt\n",
    "import plotly.offline as offline\n",
    "from plotly.subplots import make_subplots\n",
    "import plotly.subplots as sp\n",
    "import base64\n",
    "from ipywidgets import widgets\n",
    "from IPython.display import display\n",
    "from IPython.display import HTML\n",
    "from datetime import datetime\n",
    "from dateutil import parser"
   ]
  },
  {
   "cell_type": "code",
   "execution_count": 279,
   "metadata": {},
   "outputs": [],
   "source": [
    "data= pd.read_csv(\"assets/bond_details.csv\", sep=\",\", parse_dates=[\"Date_of_Purchase\"])\n",
    "data[\"Denomination\"] = data[\"Denomination\"].astype(float)"
   ]
  },
  {
   "cell_type": "code",
   "execution_count": 280,
   "metadata": {},
   "outputs": [],
   "source": [
    "\n",
    "#data['Month_Year'] = data['Date_of_Purchase'].dt.strftime('%b-%Y')\n",
    "data['Month_Year'] = data['Date_of_Purchase'].dt.to_period('m')\n",
    "#data['Month_Year'] = pd.to_datetime(data['Month_Year'], format='%b-%Y')"
   ]
  },
  {
   "cell_type": "code",
   "execution_count": 281,
   "metadata": {},
   "outputs": [
    {
     "data": {
      "text/html": [
       "<div>\n",
       "<style scoped>\n",
       "    .dataframe tbody tr th:only-of-type {\n",
       "        vertical-align: middle;\n",
       "    }\n",
       "\n",
       "    .dataframe tbody tr th {\n",
       "        vertical-align: top;\n",
       "    }\n",
       "\n",
       "    .dataframe thead th {\n",
       "        text-align: right;\n",
       "    }\n",
       "</style>\n",
       "<table border=\"1\" class=\"dataframe\">\n",
       "  <thead>\n",
       "    <tr style=\"text-align: right;\">\n",
       "      <th></th>\n",
       "      <th>Date_of_Purchase</th>\n",
       "      <th>Purchaser_Name</th>\n",
       "      <th>Denomination</th>\n",
       "      <th>Month_Year</th>\n",
       "    </tr>\n",
       "  </thead>\n",
       "  <tbody>\n",
       "    <tr>\n",
       "      <th>0</th>\n",
       "      <td>2019-04-12</td>\n",
       "      <td>A B C INDIA LIMITED</td>\n",
       "      <td>100000.0</td>\n",
       "      <td>2019-04</td>\n",
       "    </tr>\n",
       "    <tr>\n",
       "      <th>1</th>\n",
       "      <td>2019-04-12</td>\n",
       "      <td>A B C INDIA LIMITED</td>\n",
       "      <td>100000.0</td>\n",
       "      <td>2019-04</td>\n",
       "    </tr>\n",
       "    <tr>\n",
       "      <th>2</th>\n",
       "      <td>2019-04-12</td>\n",
       "      <td>A B C INDIA LIMITED</td>\n",
       "      <td>1000000.0</td>\n",
       "      <td>2019-04</td>\n",
       "    </tr>\n",
       "    <tr>\n",
       "      <th>3</th>\n",
       "      <td>2019-04-12</td>\n",
       "      <td>A B C INDIA LIMITED</td>\n",
       "      <td>1000000.0</td>\n",
       "      <td>2019-04</td>\n",
       "    </tr>\n",
       "    <tr>\n",
       "      <th>4</th>\n",
       "      <td>2019-04-12</td>\n",
       "      <td>A B C INDIA LIMITED</td>\n",
       "      <td>100000.0</td>\n",
       "      <td>2019-04</td>\n",
       "    </tr>\n",
       "    <tr>\n",
       "      <th>...</th>\n",
       "      <td>...</td>\n",
       "      <td>...</td>\n",
       "      <td>...</td>\n",
       "      <td>...</td>\n",
       "    </tr>\n",
       "    <tr>\n",
       "      <th>18866</th>\n",
       "      <td>2024-01-11</td>\n",
       "      <td>WESTWELL GASES PRIVATE LIMITED</td>\n",
       "      <td>10000000.0</td>\n",
       "      <td>2024-01</td>\n",
       "    </tr>\n",
       "    <tr>\n",
       "      <th>18867</th>\n",
       "      <td>2024-01-11</td>\n",
       "      <td>WESTWELL GASES PRIVATE LIMITED</td>\n",
       "      <td>10000000.0</td>\n",
       "      <td>2024-01</td>\n",
       "    </tr>\n",
       "    <tr>\n",
       "      <th>18868</th>\n",
       "      <td>2024-01-11</td>\n",
       "      <td>WESTWELL GASES PRIVATE LIMITED</td>\n",
       "      <td>10000000.0</td>\n",
       "      <td>2024-01</td>\n",
       "    </tr>\n",
       "    <tr>\n",
       "      <th>18869</th>\n",
       "      <td>2024-01-11</td>\n",
       "      <td>WESTWELL GASES PRIVATE LIMITED</td>\n",
       "      <td>10000000.0</td>\n",
       "      <td>2024-01</td>\n",
       "    </tr>\n",
       "    <tr>\n",
       "      <th>18870</th>\n",
       "      <td>2024-01-11</td>\n",
       "      <td>WESTWELL GASES PRIVATE LIMITED</td>\n",
       "      <td>10000000.0</td>\n",
       "      <td>2024-01</td>\n",
       "    </tr>\n",
       "  </tbody>\n",
       "</table>\n",
       "<p>18871 rows × 4 columns</p>\n",
       "</div>"
      ],
      "text/plain": [
       "      Date_of_Purchase                  Purchaser_Name  Denomination  \\\n",
       "0           2019-04-12             A B C INDIA LIMITED      100000.0   \n",
       "1           2019-04-12             A B C INDIA LIMITED      100000.0   \n",
       "2           2019-04-12             A B C INDIA LIMITED     1000000.0   \n",
       "3           2019-04-12             A B C INDIA LIMITED     1000000.0   \n",
       "4           2019-04-12             A B C INDIA LIMITED      100000.0   \n",
       "...                ...                             ...           ...   \n",
       "18866       2024-01-11  WESTWELL GASES PRIVATE LIMITED    10000000.0   \n",
       "18867       2024-01-11  WESTWELL GASES PRIVATE LIMITED    10000000.0   \n",
       "18868       2024-01-11  WESTWELL GASES PRIVATE LIMITED    10000000.0   \n",
       "18869       2024-01-11  WESTWELL GASES PRIVATE LIMITED    10000000.0   \n",
       "18870       2024-01-11  WESTWELL GASES PRIVATE LIMITED    10000000.0   \n",
       "\n",
       "      Month_Year  \n",
       "0        2019-04  \n",
       "1        2019-04  \n",
       "2        2019-04  \n",
       "3        2019-04  \n",
       "4        2019-04  \n",
       "...          ...  \n",
       "18866    2024-01  \n",
       "18867    2024-01  \n",
       "18868    2024-01  \n",
       "18869    2024-01  \n",
       "18870    2024-01  \n",
       "\n",
       "[18871 rows x 4 columns]"
      ]
     },
     "execution_count": 281,
     "metadata": {},
     "output_type": "execute_result"
    }
   ],
   "source": [
    "data"
   ]
  },
  {
   "cell_type": "code",
   "execution_count": 284,
   "metadata": {},
   "outputs": [
    {
     "data": {
      "text/plain": [
       "<PeriodArray>\n",
       "['2019-04', '2019-05', '2019-07', '2019-10', '2020-01', '2020-10', '2021-01',\n",
       " '2021-04', '2021-07', '2021-10', '2022-01', '2022-04', '2022-07', '2022-10',\n",
       " '2022-11', '2022-12', '2023-01', '2023-04', '2023-07', '2023-10', '2023-11',\n",
       " '2024-01']\n",
       "Length: 22, dtype: period[M]"
      ]
     },
     "execution_count": 284,
     "metadata": {},
     "output_type": "execute_result"
    }
   ],
   "source": [
    "unique_dates=data.Month_Year.unique()\n",
    "unique_dates"
   ]
  },
  {
   "cell_type": "code",
   "execution_count": 256,
   "metadata": {},
   "outputs": [
    {
     "data": {
      "text/plain": [
       "'ipy_bonds_map.html'"
      ]
     },
     "execution_count": 256,
     "metadata": {},
     "output_type": "execute_result"
    }
   ],
   "source": [
    "## Normal overall analysis of the bonds.\n",
    "# We group data by purchasers name.\n",
    "\n",
    "bonds_tree= data.groupby(\"Purchaser_Name\")[\"Denomination\"].apply(sum).to_dict()  # only use it for a combined analysis of all bonds\n",
    "# We can use the following code to create a treemap of the bonds.         \n",
    "fig=go.Figure(go.Treemap(labels= list(bonds_tree.keys()), parents= [\"\"]*len(bonds_tree.keys()), values= list(bonds_tree.values()), text= list(bonds_tree.keys()), marker_colors=px.colors.qualitative.Plotly, textinfo=\"label+text+value\"))    \n",
    "fig.update_layout(width=750, height=750, margin=dict(l=0, r=0, t=0, b=0))\n",
    "    \n",
    "offline.plot(fig, filename=\"ipy_bonds_map.html\", auto_open=True)"
   ]
  },
  {
   "cell_type": "code",
   "execution_count": 285,
   "metadata": {},
   "outputs": [
    {
     "data": {
      "text/plain": [
       "<PeriodArray>\n",
       "['2019-04', '2019-05', '2019-07', '2019-10', '2020-01', '2020-10', '2021-01',\n",
       " '2021-04', '2021-07', '2021-10', '2022-01', '2022-04', '2022-07', '2022-10',\n",
       " '2022-11', '2022-12', '2023-01', '2023-04', '2023-07', '2023-10', '2023-11',\n",
       " '2024-01']\n",
       "Length: 22, dtype: period[M]"
      ]
     },
     "execution_count": 285,
     "metadata": {},
     "output_type": "execute_result"
    }
   ],
   "source": [
    "unique_dates"
   ]
  },
  {
   "cell_type": "code",
   "execution_count": 286,
   "metadata": {},
   "outputs": [
    {
     "data": {
      "application/vnd.jupyter.widget-view+json": {
       "model_id": "97d2fd792b924880898e2d0886167af9",
       "version_major": 2,
       "version_minor": 0
      },
      "text/plain": [
       "interactive(children=(SelectionRangeSlider(continuous_update=False, description='Dates', index=(0, 21), layout…"
      ]
     },
     "metadata": {},
     "output_type": "display_data"
    }
   ],
   "source": [
    "# Sample DataFrame\n",
    "#datetime.datetime.strptime(year.value[0], \"%b-%Y\")\n",
    "\n",
    "# Function to update the treemap\n",
    "def update_treemap(year):\n",
    "    #filtered_df= data.between_time(parser.isoparse(year.value[0]), parser.isoparse(year.value[1]))\n",
    "    filtered_df = data.loc[data['Month_Year'] >= datetime.strptime(year.value[0], \"%b-%Y\") & data['Month_Year'] <= datetime.strptime(year.value[1], \"%b-%Y\")]\n",
    "    #filtered_df = data.loc[(datetime.strptime(data['Month_Year'],\"%b-%Y\") >= datetime.strptime(year.value[0], \"%b-%Y\")) & (datetime.strptime(data['Month_Year'],\"%b-%Y\") <= datetime.strptime(year.value[1], \"%b-%Y\"))]\n",
    "    dict_b= filtered_df.groupby(\"Purchaser_Name\")[\"Denomination\"].apply(sum).to_dict()\n",
    "    fig = go.Figure(go.Treemap(\n",
    "        labels = list(dict_b.keys()),\n",
    "        parents = [\"\"]*len(dict_b.keys()),   #[\"\"]*len(bonds_tree.keys()\n",
    "        values = list(dict_b.values()),\n",
    "        textinfo = \"label+value\"\n",
    "    ))\n",
    "    fig.update_layout(margin = dict(t=50, l=25, r=25, b=25))\n",
    "    fig.show()\n",
    "\n",
    "# Slider widget for year selection\n",
    "selection_range_slider = widgets.SelectionRangeSlider(\n",
    "    options=unique_dates,\n",
    "    index=(0, len(unique_dates)-1),\n",
    "    start=0,\n",
    "    end=len(unique_dates)-1,\n",
    "    #value=('Apr-2019', 'Oct-2021'),\n",
    "    step=1,\n",
    "    description='Dates',\n",
    "    orientation='horizontal',\n",
    "    layout={'width': '700px'},\n",
    "    continuous_update=False,\n",
    ")\n",
    "\n",
    "widgets.interactive(update_treemap, year=selection_range_slider)"
   ]
  },
  {
   "cell_type": "code",
   "execution_count": 287,
   "metadata": {},
   "outputs": [
    {
     "data": {
      "application/vnd.jupyter.widget-view+json": {
       "model_id": "b56ec7c62ed042149a155ef12ecb56a4",
       "version_major": 2,
       "version_minor": 0
      },
      "text/plain": [
       "SelectionRangeSlider(continuous_update=False, description='Dates', index=(0, 21), layout=Layout(width='700px')…"
      ]
     },
     "metadata": {},
     "output_type": "display_data"
    }
   ],
   "source": [
    "\n",
    "\n",
    "# Slider widget for year selection\n",
    "selection_range_slider = widgets.SelectionRangeSlider(\n",
    "    options=unique_dates,\n",
    "    index=(0, len(unique_dates)-1),\n",
    "    start=0,\n",
    "    end=len(unique_dates)-1,\n",
    "    #value=('Apr-2019', 'Oct-2021'),\n",
    "    step=1,\n",
    "    description='Dates',\n",
    "    orientation='horizontal',\n",
    "    layout={'width': '700px'},\n",
    "    continuous_update=False,\n",
    ")\n",
    "\n",
    "selection_range_slider\n"
   ]
  },
  {
   "cell_type": "code",
   "execution_count": 288,
   "metadata": {},
   "outputs": [
    {
     "data": {
      "text/plain": [
       "(Period('2019-04', 'M'), Period('2024-01', 'M'))"
      ]
     },
     "execution_count": 288,
     "metadata": {},
     "output_type": "execute_result"
    }
   ],
   "source": [
    "year = selection_range_slider.value\n",
    "year\n"
   ]
  },
  {
   "cell_type": "code",
   "execution_count": 289,
   "metadata": {},
   "outputs": [
    {
     "ename": "AttributeError",
     "evalue": "'tuple' object has no attribute 'value'",
     "output_type": "error",
     "traceback": [
      "\u001b[1;31m---------------------------------------------------------------------------\u001b[0m",
      "\u001b[1;31mAttributeError\u001b[0m                            Traceback (most recent call last)",
      "\u001b[1;32m~\\AppData\\Local\\Temp\\ipykernel_14004\\2608002973.py\u001b[0m in \u001b[0;36m<module>\u001b[1;34m\u001b[0m\n\u001b[1;32m----> 1\u001b[1;33m \u001b[0mfiltered_df\u001b[0m \u001b[1;33m=\u001b[0m \u001b[0mdata\u001b[0m\u001b[1;33m.\u001b[0m\u001b[0mloc\u001b[0m\u001b[1;33m[\u001b[0m\u001b[0mdata\u001b[0m\u001b[1;33m[\u001b[0m\u001b[1;34m'Month_Year'\u001b[0m\u001b[1;33m]\u001b[0m \u001b[1;33m>=\u001b[0m \u001b[0mdatetime\u001b[0m\u001b[1;33m.\u001b[0m\u001b[0mstrptime\u001b[0m\u001b[1;33m(\u001b[0m\u001b[0myear\u001b[0m\u001b[1;33m.\u001b[0m\u001b[0mvalue\u001b[0m\u001b[1;33m[\u001b[0m\u001b[1;36m0\u001b[0m\u001b[1;33m]\u001b[0m\u001b[1;33m,\u001b[0m \u001b[1;34m\"%b-%Y\"\u001b[0m\u001b[1;33m)\u001b[0m \u001b[1;33m&\u001b[0m \u001b[0mdata\u001b[0m\u001b[1;33m[\u001b[0m\u001b[1;34m'Month_Year'\u001b[0m\u001b[1;33m]\u001b[0m \u001b[1;33m<=\u001b[0m \u001b[0mdatetime\u001b[0m\u001b[1;33m.\u001b[0m\u001b[0mstrptime\u001b[0m\u001b[1;33m(\u001b[0m\u001b[0myear\u001b[0m\u001b[1;33m.\u001b[0m\u001b[0mvalue\u001b[0m\u001b[1;33m[\u001b[0m\u001b[1;36m1\u001b[0m\u001b[1;33m]\u001b[0m\u001b[1;33m,\u001b[0m \u001b[1;34m\"%b-%Y\"\u001b[0m\u001b[1;33m)\u001b[0m\u001b[1;33m]\u001b[0m\u001b[1;33m\u001b[0m\u001b[1;33m\u001b[0m\u001b[0m\n\u001b[0m",
      "\u001b[1;31mAttributeError\u001b[0m: 'tuple' object has no attribute 'value'"
     ]
    }
   ],
   "source": [
    "filtered_df = data.loc[data['Month_Year'] >= datetime.strptime(year.value[0], \"%b-%Y\") & data['Month_Year'] <= datetime.strptime(year.value[1], \"%b-%Y\")]"
   ]
  },
  {
   "cell_type": "code",
   "execution_count": null,
   "metadata": {},
   "outputs": [],
   "source": []
  }
 ],
 "metadata": {
  "kernelspec": {
   "display_name": "base",
   "language": "python",
   "name": "python3"
  },
  "language_info": {
   "codemirror_mode": {
    "name": "ipython",
    "version": 3
   },
   "file_extension": ".py",
   "mimetype": "text/x-python",
   "name": "python",
   "nbconvert_exporter": "python",
   "pygments_lexer": "ipython3",
   "version": "3.9.13"
  }
 },
 "nbformat": 4,
 "nbformat_minor": 2
}
